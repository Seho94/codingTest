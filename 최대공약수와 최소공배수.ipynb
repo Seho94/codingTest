{
 "cells": [
  {
   "cell_type": "markdown",
   "id": "8324a0bd",
   "metadata": {},
   "source": [
    "## 문제 설명\n",
    "두 수를 입력받아 두 수의 최대공약수와 최소공배수를 반환하는 함수, solution을 완성해 보세요. 배열의 맨 앞에 최대공약수, 그다음 최소공배수를 넣어 반환하면 됩니다. 예를 들어 두 수 3, 12의 최대공약수는 3, 최소공배수는 12이므로 solution(3, 12)는 [3, 12]를 반환해야 합니다.\n",
    "\n",
    "## 제한 사항\n",
    "두 수는 1이상 1000000이하의 자연수입니다.\n",
    "\n",
    "## Input & Output\n",
    "n=3, m=12, [3, 12] ([최대공약수, 최소공배수]  \n",
    "n=2, m=5, [1, 10]"
   ]
  },
  {
   "cell_type": "code",
   "execution_count": 60,
   "id": "d0839702",
   "metadata": {},
   "outputs": [
    {
     "name": "stdout",
     "output_type": "stream",
     "text": [
      "[3, 12]\n",
      "[1, 10]\n"
     ]
    }
   ],
   "source": [
    "def solution(n,m):\n",
    "    tmp = n * m\n",
    "    while(m>0):\n",
    "        n, m = m, n%m\n",
    "    return([n, tmp//n])\n",
    "\n",
    "print(solution(3,12))\n",
    "print(solution(2,5))"
   ]
  }
 ],
 "metadata": {
  "kernelspec": {
   "display_name": "Python 3",
   "language": "python",
   "name": "python3"
  },
  "language_info": {
   "codemirror_mode": {
    "name": "ipython",
    "version": 3
   },
   "file_extension": ".py",
   "mimetype": "text/x-python",
   "name": "python",
   "nbconvert_exporter": "python",
   "pygments_lexer": "ipython3",
   "version": "3.8.8"
  }
 },
 "nbformat": 4,
 "nbformat_minor": 5
}
