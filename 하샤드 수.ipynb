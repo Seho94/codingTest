{
 "cells": [
  {
   "cell_type": "markdown",
   "id": "370d16c8",
   "metadata": {},
   "source": [
    "## 문제 설명\n",
    "양의 정수 x가 하샤드 수이려면 x의 자릿수의 합으로 x가 나누어져야 합니다. 예를 들어 18의 자릿수 합은 1+8=9이고, 18은 9로 나누어 떨어지므로 18은 하샤드 수입니다. 자연수 x를 입력받아 x가 하샤드 수인지 아닌지 검사하는 함수, solution을 완성해주세요.\n",
    "\n",
    "## 제한 조건\n",
    "x는 1 이상, 10000 이하인 정수입니다.\n",
    "\n",
    "## 입출력 예\n",
    "10 >> true  \n",
    "12 >> true  \n",
    "11 >> false  \n",
    "13 >> false"
   ]
  },
  {
   "cell_type": "code",
   "execution_count": 46,
   "id": "3b0cb09b",
   "metadata": {},
   "outputs": [
    {
     "name": "stdout",
     "output_type": "stream",
     "text": [
      "True\n",
      "True\n",
      "False\n",
      "False\n"
     ]
    }
   ],
   "source": [
    "def solution(x):\n",
    "    tmp = 0\n",
    "    real = x\n",
    "    while True:\n",
    "        if x < 10:\n",
    "            tmp = tmp + (x%10)\n",
    "            break\n",
    "        else:\n",
    "            tmp = tmp + (x%10)\n",
    "            x = x//10\n",
    "    if real % tmp == 0:\n",
    "        return True\n",
    "    else:\n",
    "        return False\n",
    "        \n",
    "print(solution(10))\n",
    "print(solution(12))\n",
    "print(solution(11))\n",
    "print(solution(13))"
   ]
  },
  {
   "cell_type": "markdown",
   "id": "3bf3ba4a",
   "metadata": {},
   "source": [
    "## 모범답안"
   ]
  },
  {
   "cell_type": "code",
   "execution_count": 47,
   "id": "020a8ae1",
   "metadata": {},
   "outputs": [
    {
     "name": "stdout",
     "output_type": "stream",
     "text": [
      "True\n"
     ]
    }
   ],
   "source": [
    "def Harshad(n):\n",
    "    # n은 하샤드 수 인가요?\n",
    "    return n % sum([int(c) for c in str(n)]) == 0\n",
    "\n",
    "# 아래는 테스트로 출력해 보기 위한 코드입니다.\n",
    "print(Harshad(18))"
   ]
  }
 ],
 "metadata": {
  "kernelspec": {
   "display_name": "Python 3",
   "language": "python",
   "name": "python3"
  },
  "language_info": {
   "codemirror_mode": {
    "name": "ipython",
    "version": 3
   },
   "file_extension": ".py",
   "mimetype": "text/x-python",
   "name": "python",
   "nbconvert_exporter": "python",
   "pygments_lexer": "ipython3",
   "version": "3.8.8"
  }
 },
 "nbformat": 4,
 "nbformat_minor": 5
}
