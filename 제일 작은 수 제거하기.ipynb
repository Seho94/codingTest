{
 "cells": [
  {
   "cell_type": "markdown",
   "id": "5f08d85f",
   "metadata": {},
   "source": [
    "# 문제 설명\n",
    "정수를 저장한 배열, arr 에서 가장 작은 수를 제거한 배열을 리턴하는 함수, solution을 완성해주세요. 단, 리턴하려는 배열이 빈 배열인 경우엔 배열에 -1을 채워 리턴하세요. 예를들어 arr이 [4,3,2,1]인 경우는 [4,3,2]를 리턴 하고, [10]면 [-1]을 리턴 합니다.\n",
    "\n",
    "# 제한 조건\n",
    "arr은 길이 1 이상인 배열입니다.\n",
    "인덱스 i, j에 대해 i ≠ j이면 arr[i] ≠ arr[j] 입니다.\n",
    "\n",
    "## Input\n",
    "[4,3,2,1]\t\n",
    "[10]\t\n",
    "## Output\n",
    "[4,3,2]  \n",
    "[-1]"
   ]
  },
  {
   "cell_type": "code",
   "execution_count": 86,
   "id": "de68827c",
   "metadata": {},
   "outputs": [
    {
     "name": "stdout",
     "output_type": "stream",
     "text": [
      "결과 [4, 3, 2] \n"
     ]
    }
   ],
   "source": [
    "def solution(arr):\n",
    "    answer = arr\n",
    "    idx = []\n",
    "    if arr == []:\n",
    "        return [-1]\n",
    "    for i in range(answer.index(min(answer)), len(answer)):\n",
    "        if answer[i] == min(answer):\n",
    "            idx.append(i)\n",
    "\n",
    "    idx = reversed(idx)\n",
    "    for j in idx:\n",
    "        answer.pop(j)\n",
    "        \n",
    "    if answer == []:\n",
    "        return [-1]\n",
    "    return answer\n",
    "\n",
    "my_list = [4,3,2,1]\n",
    "print(\"결과 {} \".format(solution(my_list)))"
   ]
  },
  {
   "cell_type": "markdown",
   "id": "9721c2f3",
   "metadata": {},
   "source": [
    "### 모범 정답"
   ]
  },
  {
   "cell_type": "code",
   "execution_count": 85,
   "id": "8db35a33",
   "metadata": {},
   "outputs": [
    {
     "name": "stdout",
     "output_type": "stream",
     "text": [
      "결과 [4, 3, 2] \n"
     ]
    }
   ],
   "source": [
    "def rm_small(mylist):\n",
    "    return [i for i in mylist if i > min(mylist)]\n",
    "\n",
    "# 아래는 테스트로 출력해 보기 위한 코드입니다.\n",
    "my_list = [4,3,2,1]\n",
    "print(\"결과 {} \".format(rm_small(my_list)))\n"
   ]
  }
 ],
 "metadata": {
  "kernelspec": {
   "display_name": "Python 3",
   "language": "python",
   "name": "python3"
  },
  "language_info": {
   "codemirror_mode": {
    "name": "ipython",
    "version": 3
   },
   "file_extension": ".py",
   "mimetype": "text/x-python",
   "name": "python",
   "nbconvert_exporter": "python",
   "pygments_lexer": "ipython3",
   "version": "3.8.8"
  }
 },
 "nbformat": 4,
 "nbformat_minor": 5
}
