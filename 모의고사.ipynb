{
 "cells": [
  {
   "cell_type": "markdown",
   "id": "084c83db",
   "metadata": {},
   "source": [
    "## 문제 설명\n",
    "수포자는 수학을 포기한 사람의 준말입니다. 수포자 삼인방은 모의고사에 수학 문제를 전부 찍으려 합니다. 수포자는 1번 문제부터 마지막 문제까지 다음과 같이 찍습니다.  \n",
    "  \n",
    "1번 수포자가 찍는 방식: 1, 2, 3, 4, 5, 1, 2, 3, 4, 5, ...  \n",
    "2번 수포자가 찍는 방식: 2, 1, 2, 3, 2, 4, 2, 5, 2, 1, 2, 3, 2, 4, 2, 5, ...  \n",
    "3번 수포자가 찍는 방식: 3, 3, 1, 1, 2, 2, 4, 4, 5, 5, 3, 3, 1, 1, 2, 2, 4, 4, 5, 5, ...  \n",
    "\n",
    "1번 문제부터 마지막 문제까지의 정답이 순서대로 들은 배열 answers가 주어졌을 때, 가장 많은 문제를 맞힌 사람이 누구인지 배열에 담아 return 하도록 solution 함수를 작성해주세요.  \n",
    "\n",
    "## 제한 조건\n",
    "시험은 최대 10,000 문제로 구성되어있습니다.  \n",
    "문제의 정답은 1, 2, 3, 4, 5중 하나입니다.  \n",
    "가장 높은 점수를 받은 사람이 여럿일 경우, return하는 값을 오름차순 정렬해주세요.  \n",
    "## 입출력 예\n",
    "answers\treturn  \n",
    "[1,2,3,4,5]\t[1]  \n",
    "[1,3,2,4,2]\t[1,2,3]  \n",
    "### 입출력 예 설명\n",
    "#### 입출력 예 #1\n",
    "\n",
    "수포자 1은 모든 문제를 맞혔습니다.  \n",
    "수포자 2는 모든 문제를 틀렸습니다.  \n",
    "수포자 3은 모든 문제를 틀렸습니다.  \n",
    "따라서 가장 문제를 많이 맞힌 사람은 수포자 1입니다.  \n",
    "\n",
    "## 입출력 예 #2\n",
    "모든 사람이 2문제씩을 맞췄습니다."
   ]
  },
  {
   "cell_type": "code",
   "execution_count": 65,
   "id": "51773a42",
   "metadata": {},
   "outputs": [],
   "source": [
    "def solution(answers):\n",
    "    li1 = [1,2,3,4,5]\n",
    "    li2 = [2, 1, 2, 3, 2, 4, 2, 5]\n",
    "    li3 = [3, 3, 1, 1, 2, 2, 4, 4, 5, 5]\n",
    "    li1 = li1 * (int(len(answers)/len(li1))+1)\n",
    "    li2 = li2 * (int(len(answers)/len(li2))+1)\n",
    "    li3 = li3 * (int(len(answers)/len(li3))+1)\n",
    "    num1 = sum(list(map(lambda x,y: x==y, answers,li1)))\n",
    "    num2 = sum(list(map(lambda x,y: x==y, answers,li2)))\n",
    "    num3 = sum(list(map(lambda x,y: x==y, answers,li3)))\n",
    "    num_li = [num1, num2, num3]\n",
    "    m = max(num_li)\n",
    "    answer = [i+1 for i in range(len(num_li)) if num_li[i] == m]\n",
    "    return answer"
   ]
  },
  {
   "cell_type": "code",
   "execution_count": 68,
   "id": "9959d506",
   "metadata": {},
   "outputs": [
    {
     "name": "stdout",
     "output_type": "stream",
     "text": [
      "[1]\n",
      "[1, 2, 3]\n"
     ]
    }
   ],
   "source": [
    "print(solution([1,2,3,4,5]))\n",
    "print(solution([1,3,2,4,2]))"
   ]
  },
  {
   "cell_type": "markdown",
   "id": "99cfecbf",
   "metadata": {},
   "source": [
    "## 모범 답안"
   ]
  },
  {
   "cell_type": "code",
   "execution_count": 69,
   "id": "59fbe7e5",
   "metadata": {},
   "outputs": [],
   "source": [
    "def solution(answers):\n",
    "    p = [[1, 2, 3, 4, 5],\n",
    "         [2, 1, 2, 3, 2, 4, 2, 5],\n",
    "         [3, 3, 1, 1, 2, 2, 4, 4, 5, 5]]\n",
    "    s = [0] * len(p)\n",
    "\n",
    "    for q, a in enumerate(answers):\n",
    "        for i, v in enumerate(p):\n",
    "            if a == v[q % len(v)]:\n",
    "                s[i] += 1\n",
    "    return [i + 1 for i, v in enumerate(s) if v == max(s)]"
   ]
  },
  {
   "cell_type": "code",
   "execution_count": 70,
   "id": "761cc8a3",
   "metadata": {},
   "outputs": [
    {
     "name": "stdout",
     "output_type": "stream",
     "text": [
      "[1]\n",
      "[1, 2, 3]\n"
     ]
    }
   ],
   "source": [
    "print(solution([1,2,3,4,5]))\n",
    "print(solution([1,3,2,4,2]))"
   ]
  }
 ],
 "metadata": {
  "kernelspec": {
   "display_name": "Python 3",
   "language": "python",
   "name": "python3"
  },
  "language_info": {
   "codemirror_mode": {
    "name": "ipython",
    "version": 3
   },
   "file_extension": ".py",
   "mimetype": "text/x-python",
   "name": "python",
   "nbconvert_exporter": "python",
   "pygments_lexer": "ipython3",
   "version": "3.8.8"
  }
 },
 "nbformat": 4,
 "nbformat_minor": 5
}
