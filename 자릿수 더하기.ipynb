{
 "cells": [
  {
   "cell_type": "code",
   "execution_count": 28,
   "id": "46f393b1",
   "metadata": {},
   "outputs": [
    {
     "name": "stdout",
     "output_type": "stream",
     "text": [
      "결과: 6\n"
     ]
    }
   ],
   "source": [
    "def solution(n):\n",
    "    answer = 0\n",
    "    length = len(str(n))\n",
    "\n",
    "    for i in range(length,0,-1):\n",
    "        num = 10**(i-1)\n",
    "        tmp = n//num\n",
    "        n = n - tmp*num\n",
    "        answer = answer + tmp\n",
    "\n",
    "    return answer\n",
    "\n",
    "print(f\"결과: {solution(123)}\")"
   ]
  },
  {
   "cell_type": "markdown",
   "id": "fba841be",
   "metadata": {},
   "source": [
    "### 우수 답안 (재귀구조)"
   ]
  },
  {
   "cell_type": "code",
   "execution_count": 29,
   "id": "bbb2e22b",
   "metadata": {},
   "outputs": [
    {
     "name": "stdout",
     "output_type": "stream",
     "text": [
      "결과 : 6\n"
     ]
    }
   ],
   "source": [
    "def sum_digit(number):\n",
    "    if number < 10:\n",
    "        return number;\n",
    "    return (number % 10) + sum_digit(number // 10) \n",
    "\n",
    "# 아래는 테스트로 출력해 보기 위한 코드입니다.\n",
    "print(\"결과 : {}\".format(sum_digit(123)));"
   ]
  }
 ],
 "metadata": {
  "kernelspec": {
   "display_name": "Python 3",
   "language": "python",
   "name": "python3"
  },
  "language_info": {
   "codemirror_mode": {
    "name": "ipython",
    "version": 3
   },
   "file_extension": ".py",
   "mimetype": "text/x-python",
   "name": "python",
   "nbconvert_exporter": "python",
   "pygments_lexer": "ipython3",
   "version": "3.8.8"
  }
 },
 "nbformat": 4,
 "nbformat_minor": 5
}
