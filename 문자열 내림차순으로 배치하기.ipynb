{
 "cells": [
  {
   "cell_type": "markdown",
   "id": "fbfd11b1",
   "metadata": {},
   "source": [
    "## 문제 설명\n",
    "문자열 s에 나타나는 문자를 큰것부터 작은 순으로 정렬해 새로운 문자열을 리턴하는 함수, solution을 완성해주세요.\n",
    "s는 영문 대소문자로만 구성되어 있으며, 대문자는 소문자보다 작은 것으로 간주합니다.\n",
    "\n",
    "## 제한 사항\n",
    "str은 길이 1 이상인 문자열입니다.  \n",
    "입출력 예  \n",
    "s\treturn  \n",
    "\"Zbcdefg\"\t\"gfedcbZ\"  "
   ]
  },
  {
   "cell_type": "code",
   "execution_count": 9,
   "id": "1508dea8",
   "metadata": {},
   "outputs": [],
   "source": [
    "s = \"Zbcdefg\""
   ]
  },
  {
   "cell_type": "code",
   "execution_count": 38,
   "id": "8cd0c96e",
   "metadata": {},
   "outputs": [],
   "source": [
    "def solution(s):\n",
    "    answer = ','.join(s).split(',')\n",
    "    for i in range(len(answer)):\n",
    "        answer[i] = ord(answer[i])\n",
    "    answer = sorted(answer, reverse=True)\n",
    "    tmp = ''\n",
    "    for i in range(len(answer)):\n",
    "        tmp = tmp + chr(answer[i])\n",
    "        \n",
    "    return tmp"
   ]
  },
  {
   "cell_type": "markdown",
   "id": "9b96f61a",
   "metadata": {},
   "source": [
    "## 모범답안"
   ]
  },
  {
   "cell_type": "code",
   "execution_count": 40,
   "id": "73f2f629",
   "metadata": {},
   "outputs": [
    {
     "data": {
      "text/plain": [
       "'gfedcbZ'"
      ]
     },
     "execution_count": 40,
     "metadata": {},
     "output_type": "execute_result"
    }
   ],
   "source": [
    "def solution(s):\n",
    "    return ''.join(sorted(s, reverse=True))\n",
    "\n",
    "solution(s)"
   ]
  }
 ],
 "metadata": {
  "kernelspec": {
   "display_name": "Python 3",
   "language": "python",
   "name": "python3"
  },
  "language_info": {
   "codemirror_mode": {
    "name": "ipython",
    "version": 3
   },
   "file_extension": ".py",
   "mimetype": "text/x-python",
   "name": "python",
   "nbconvert_exporter": "python",
   "pygments_lexer": "ipython3",
   "version": "3.8.8"
  }
 },
 "nbformat": 4,
 "nbformat_minor": 5
}
