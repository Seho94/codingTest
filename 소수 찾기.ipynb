{
 "cells": [
  {
   "cell_type": "markdown",
   "id": "2767aeb6",
   "metadata": {},
   "source": [
    "## 문제 설명\n",
    "1부터 입력받은 숫자 n 사이에 있는 소수의 개수를 반환하는 함수, solution을 만들어 보세요.\n",
    "\n",
    "소수는 1과 자기 자신으로만 나누어지는 수를 의미합니다.\n",
    "(1은 소수가 아닙니다.)\n",
    "\n",
    "## 제한 조건\n",
    "n은 2이상 1000000이하의 자연수입니다.\n",
    "\n",
    "## 입출력 예\n",
    "n\tresult  \n",
    "10\t4  \n",
    "5\t3"
   ]
  },
  {
   "cell_type": "code",
   "execution_count": 3,
   "id": "9d8287d7",
   "metadata": {},
   "outputs": [],
   "source": [
    "# 1. 소수를 구하는 알고리즘\n",
    "# 2 3 5 7 11 13 17\n",
    "# 2. 1~n 사이의 숫자를 다 고려하는 알고리즘"
   ]
  },
  {
   "cell_type": "markdown",
   "id": "48a63c2d",
   "metadata": {},
   "source": [
    "1차적으로 접근했지만 시간 초과, 효율성이 떨어지는 코드"
   ]
  },
  {
   "cell_type": "code",
   "execution_count": 58,
   "id": "b352fc23",
   "metadata": {},
   "outputs": [],
   "source": [
    "def solution(n):\n",
    "    if n == 1:\n",
    "        return 0\n",
    "    answer = 0\n",
    "    for i in range(n,1,-1):\n",
    "        tmp = 0\n",
    "        for j in range(i-1, 0, -1):\n",
    "            if i % j == 0:\n",
    "                tmp += 1\n",
    "            if tmp > 1:\n",
    "                break\n",
    "        if tmp == 1:\n",
    "            answer += 1\n",
    "    return answer"
   ]
  },
  {
   "cell_type": "code",
   "execution_count": 59,
   "id": "e9b7c045",
   "metadata": {},
   "outputs": [
    {
     "data": {
      "text/plain": [
       "3"
      ]
     },
     "execution_count": 59,
     "metadata": {},
     "output_type": "execute_result"
    }
   ],
   "source": [
    "solution(5)"
   ]
  },
  {
   "cell_type": "markdown",
   "id": "bae0cc87",
   "metadata": {},
   "source": [
    "2차 시도, 에라토스테네스의 체를 활용한 소수 구하기"
   ]
  },
  {
   "cell_type": "code",
   "execution_count": 97,
   "id": "29fa3f32",
   "metadata": {},
   "outputs": [
    {
     "data": {
      "text/plain": [
       "5"
      ]
     },
     "execution_count": 97,
     "metadata": {},
     "output_type": "execute_result"
    }
   ],
   "source": [
    "def solution(n):\n",
    "    # 에라토스테네스의 체 초기화: n개 요소에 True 설정(소수로 간주)\n",
    "    sieve = [True] * (n+1)\n",
    "\n",
    "    # n의 최대 약수가 sqrt(n) 이하이므로 i=sqrt(n)까지 검사\n",
    "    m = int(n ** 0.5)\n",
    "    for i in range(2, m + 1):\n",
    "        if sieve[i] == True:           # i가 소수인 경우\n",
    "            for j in range(i+i, n+1, i): # i이후 i의 배수들을 False 판정\n",
    "                sieve[j] = False\n",
    "\n",
    "    # 소수 목록 산출\n",
    "    return len([i for i in range(2, n+1) if sieve[i] == True])\n",
    "\n",
    "solution(12)"
   ]
  },
  {
   "cell_type": "markdown",
   "id": "940e4eb7",
   "metadata": {},
   "source": [
    "## 모범답안"
   ]
  },
  {
   "cell_type": "code",
   "execution_count": 101,
   "id": "cead380d",
   "metadata": {},
   "outputs": [
    {
     "name": "stdout",
     "output_type": "stream",
     "text": [
      "초기num: {2, 3, 4, 5}\n",
      "2 {2, 3, 5}\n",
      "3 {2, 3, 5}\n",
      "5 {2, 3, 5}\n"
     ]
    },
    {
     "data": {
      "text/plain": [
       "3"
      ]
     },
     "execution_count": 101,
     "metadata": {},
     "output_type": "execute_result"
    }
   ],
   "source": [
    "def solution(n):\n",
    "    num=set(range(2,n+1))\n",
    "    for i in range(2,n+1):\n",
    "        if i in num:\n",
    "            num-=set(range(2*i,n+1,i))\n",
    "    return len(num)\n",
    "\n",
    "solution(5)"
   ]
  }
 ],
 "metadata": {
  "kernelspec": {
   "display_name": "Python 3",
   "language": "python",
   "name": "python3"
  },
  "language_info": {
   "codemirror_mode": {
    "name": "ipython",
    "version": 3
   },
   "file_extension": ".py",
   "mimetype": "text/x-python",
   "name": "python",
   "nbconvert_exporter": "python",
   "pygments_lexer": "ipython3",
   "version": "3.8.8"
  }
 },
 "nbformat": 4,
 "nbformat_minor": 5
}
