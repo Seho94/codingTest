{
 "cells": [
  {
   "cell_type": "markdown",
   "id": "db1d0ac2",
   "metadata": {},
   "source": [
    "## 문제 설명\n",
    "2016년 1월 1일은 금요일입니다. 2016년 a월 b일은 무슨 요일일까요? 두 수 a ,b를 입력받아 2016년 a월 b일이 무슨 요일인지 리턴하는 함수, solution을 완성하세요. 요일의 이름은 일요일부터 토요일까지 각각 SUN,MON,TUE,WED,THU,FRI,SAT  \n",
    "  \n",
    "입니다. 예를 들어 a=5, b=24라면 5월 24일은 화요일이므로 문자열 \"TUE\"를 반환하세요.  \n",
    "  \n",
    "## 제한 조건\n",
    "2016년은 윤년입니다.  \n",
    "2016년 a월 b일은 실제로 있는 날입니다. (13월 26일이나 2월 45일같은 날짜는 주어지지 않습니다)  \n",
    "입출력 예  \n",
    "a\tb\tresult  \n",
    "5\t24\t\"TUE\""
   ]
  },
  {
   "cell_type": "markdown",
   "id": "5ab727a3",
   "metadata": {},
   "source": [
    "7로 나눈 나머지  \n",
    "1 > 금  \n",
    "2 > 토  \n",
    "3 > 일  \n",
    "4 > 월  "
   ]
  },
  {
   "cell_type": "code",
   "execution_count": 34,
   "id": "4fd81efe",
   "metadata": {},
   "outputs": [
    {
     "name": "stdout",
     "output_type": "stream",
     "text": [
      "TUE\n"
     ]
    }
   ],
   "source": [
    "def solution(a, b):\n",
    "    li = [i for i in range(1,13)]\n",
    "    li2 = [31 if i in [1,3,5,7,8,10,12] else 29 if i==2 else 30 for i in range(1,13)]\n",
    "    d = dict(zip(li,li2))\n",
    "\n",
    "    li = [i for i in range(0,7)]\n",
    "    li2 = ['THU','FRI', 'SAT', 'SUN', 'MON', 'TUE', 'WED']\n",
    "    d2 = dict(zip(li,li2))\n",
    "    num = sum([d[i] for i in range(1,a)]) + b\n",
    "    return d2[num%7]\n",
    "\n",
    "print(solution(5,24))"
   ]
  },
  {
   "cell_type": "markdown",
   "id": "254ba034",
   "metadata": {},
   "source": [
    "## 모범 답안"
   ]
  },
  {
   "cell_type": "code",
   "execution_count": 35,
   "id": "f6fad530",
   "metadata": {},
   "outputs": [
    {
     "name": "stdout",
     "output_type": "stream",
     "text": [
      "TUE\n"
     ]
    }
   ],
   "source": [
    "def getDayName(a,b):\n",
    "    months = [31, 29, 31, 30, 31, 30, 31, 31, 30, 31, 30, 31]\n",
    "    days = ['FRI', 'SAT', 'SUN', 'MON', 'TUE', 'WED', 'THU']\n",
    "    return days[(sum(months[:a-1])+b-1)%7]\n",
    "\n",
    "print(getDayName(5,24))"
   ]
  }
 ],
 "metadata": {
  "kernelspec": {
   "display_name": "Python 3",
   "language": "python",
   "name": "python3"
  },
  "language_info": {
   "codemirror_mode": {
    "name": "ipython",
    "version": 3
   },
   "file_extension": ".py",
   "mimetype": "text/x-python",
   "name": "python",
   "nbconvert_exporter": "python",
   "pygments_lexer": "ipython3",
   "version": "3.8.8"
  }
 },
 "nbformat": 4,
 "nbformat_minor": 5
}
