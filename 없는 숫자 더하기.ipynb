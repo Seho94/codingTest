{
 "cells": [
  {
   "cell_type": "markdown",
   "id": "d9e214a8",
   "metadata": {},
   "source": [
    "## 문제 설명\n",
    "0부터 9까지의 숫자 중 일부가 들어있는 배열 numbers가 매개변수로 주어집니다. numbers에서 찾을 수 없는 0부터 9까지의 숫자를 모두 찾아 더한 수를 return 하도록 solution 함수를 완성해주세요.\n",
    "\n",
    "## 제한사항\n",
    "1 ≤ numbers의 길이 ≤ 9  \n",
    "0 ≤ numbers의 모든 수 ≤ 9  \n",
    "numbers의 모든 수는 서로 다릅니다.  "
   ]
  },
  {
   "cell_type": "code",
   "execution_count": 4,
   "id": "c97ea99f",
   "metadata": {},
   "outputs": [
    {
     "name": "stdout",
     "output_type": "stream",
     "text": [
      "14\n",
      "6\n"
     ]
    }
   ],
   "source": [
    "def solution(numbers):\n",
    "    return 45-sum(numbers)\n",
    "\n",
    "print(solution([1,2,3,4,6,7,8,0]))\n",
    "print(solution([5,8,4,0,6,7,9]))"
   ]
  }
 ],
 "metadata": {
  "kernelspec": {
   "display_name": "Python 3",
   "language": "python",
   "name": "python3"
  },
  "language_info": {
   "codemirror_mode": {
    "name": "ipython",
    "version": 3
   },
   "file_extension": ".py",
   "mimetype": "text/x-python",
   "name": "python",
   "nbconvert_exporter": "python",
   "pygments_lexer": "ipython3",
   "version": "3.8.8"
  }
 },
 "nbformat": 4,
 "nbformat_minor": 5
}
