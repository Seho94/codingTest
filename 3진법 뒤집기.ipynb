{
 "cells": [
  {
   "cell_type": "markdown",
   "id": "1fffffbd",
   "metadata": {},
   "source": [
    "## 문제 설명\n",
    "자연수 n이 매개변수로 주어집니다. n을 3진법 상에서 앞뒤로 뒤집은 후, 이를 다시 10진법으로 표현한 수를 return 하도록 solution 함수를 완성해주세요.  \n",
    "\n",
    "## 제한사항\n",
    "n은 1 이상 100,000,000 이하인 자연수입니다.  \n",
    "\n",
    "## 입출력 예\n",
    "n\tresult  \n",
    "45\t7  \n",
    "125\t229  \n",
    "## 입출력 예 설명\n",
    "### 입출력 예 #1\n",
    "답을 도출하는 과정은 다음과 같습니다.  \n",
    "n (10진법)\tn (3진법)\t앞뒤 반전(3진법)\t10진법으로 표현  \n",
    "45\t1200\t0021\t7  \n",
    "따라서 7을 return 해야 합니다.  \n",
    "### 입출력 예 #2\n",
    "답을 도출하는 과정은 다음과 같습니다.  \n",
    "n (10진법)\tn (3진법)\t앞뒤 반전(3진법)\t10진법으로 표현  \n",
    "125\t11122\t22111\t229  \n",
    "따라서 229를 return 해야 합니다.  "
   ]
  },
  {
   "cell_type": "code",
   "execution_count": 10,
   "id": "25fcded9",
   "metadata": {},
   "outputs": [
    {
     "name": "stdout",
     "output_type": "stream",
     "text": [
      "7\n",
      "229\n"
     ]
    }
   ],
   "source": [
    "def solution(n):\n",
    "    answer = ''\n",
    "    while n >= 1:\n",
    "        n, rest = divmod(n, 3)\n",
    "        answer += str(rest)\n",
    "    answer = int(answer, 3)\n",
    "    return answer\n",
    "\n",
    "print(solution(45))\n",
    "print(solution(125))"
   ]
  }
 ],
 "metadata": {
  "kernelspec": {
   "display_name": "Python 3",
   "language": "python",
   "name": "python3"
  },
  "language_info": {
   "codemirror_mode": {
    "name": "ipython",
    "version": 3
   },
   "file_extension": ".py",
   "mimetype": "text/x-python",
   "name": "python",
   "nbconvert_exporter": "python",
   "pygments_lexer": "ipython3",
   "version": "3.8.8"
  }
 },
 "nbformat": 4,
 "nbformat_minor": 5
}
