{
 "cells": [
  {
   "cell_type": "markdown",
   "id": "e2e8f941",
   "metadata": {},
   "source": [
    "## 문제 설명\n",
    "배열 arr가 주어집니다. 배열 arr의 각 원소는 숫자 0부터 9까지로 이루어져 있습니다. 이때, 배열 arr에서 연속적으로 나타나는 숫자는 하나만 남기고 전부 제거하려고 합니다. 단, 제거된 후 남은 수들을 반환할 때는 배열 arr의 원소들의 순서를 유지해야 합니다.  \n",
    "\n",
    "예를 들면,  \n",
    "arr = [1, 1, 3, 3, 0, 1, 1] 이면 [1, 3, 0, 1] 을 return 합니다.  \n",
    "arr = [4, 4, 4, 3, 3] 이면 [4, 3] 을 return 합니다.  \n",
    "배열 arr에서 연속적으로 나타나는 숫자는 제거하고 남은 수들을 return 하는 solution 함수를 완성해 주세요.  \n",
    "\n",
    "## 제한사항\n",
    "배열 arr의 크기 : 1,000,000 이하의 자연수  \n",
    "배열 arr의 원소의 크기 : 0보다 크거나 같고 9보다 작거나 같은 정수  \n",
    "\n",
    "## 입출력 예\n",
    "arr\tanswer  \n",
    "[1,1,3,3,0,1,1]\t[1,3,0,1]  \n",
    "[4,4,4,3,3]\t[4,3]"
   ]
  },
  {
   "cell_type": "code",
   "execution_count": 95,
   "id": "2e96ba17",
   "metadata": {},
   "outputs": [
    {
     "name": "stdout",
     "output_type": "stream",
     "text": [
      "[1, 3, 0, 1]\n",
      "[4, 3]\n"
     ]
    }
   ],
   "source": [
    "def solution(arr):\n",
    "    answer = []\n",
    "    v = [i for i in range(len(arr))]\n",
    "    d = dict(zip(v,arr))\n",
    "    n = 0\n",
    "    for k,v in d.items():\n",
    "        if n == 0:\n",
    "            answer.append(v)\n",
    "            n += 1\n",
    "            continue\n",
    "        elif v == answer[n-1]:\n",
    "            continue\n",
    "        else:\n",
    "            answer.append(v)\n",
    "            n += 1\n",
    "    return answer\n",
    "\n",
    "print(solution([1,1,3,3,0,1,1]))\n",
    "print(solution([4,4,4,3,3]))"
   ]
  },
  {
   "cell_type": "markdown",
   "id": "c7014877",
   "metadata": {},
   "source": [
    "## 모범답안\n",
    "   - 당시에는 int 개념이 아닌 string이었던 것 같다."
   ]
  },
  {
   "cell_type": "code",
   "execution_count": 102,
   "id": "18ed4ff8",
   "metadata": {},
   "outputs": [
    {
     "name": "stdout",
     "output_type": "stream",
     "text": [
      "['1', '3', '0', '3']\n"
     ]
    }
   ],
   "source": [
    "# 문제가 개편되었습니다. 이로 인해 함수 구성이나 테스트케이스가 변경되어, 과거의 코드는 동작하지 않을 수 있습니다.\n",
    "# 새로운 함수 구성을 적용하려면 [코드 초기화] 버튼을 누르세요. 단, [코드 초기화] 버튼을 누르면 작성 중인 코드는 사라집니다.\n",
    "def no_continuous(s):\n",
    "    a = []\n",
    "    for i in s:\n",
    "        if a[-1:] == [i]: continue\n",
    "        a.append(i)\n",
    "    return a\n",
    "\n",
    "# 아래는 테스트로 출력해 보기 위한 코드입니다.\n",
    "print( no_continuous( \"133303\" ))"
   ]
  },
  {
   "cell_type": "markdown",
   "id": "9a35c420",
   "metadata": {},
   "source": [
    "   - 약간 모범답안 수정"
   ]
  },
  {
   "cell_type": "code",
   "execution_count": 103,
   "id": "7c6770d5",
   "metadata": {},
   "outputs": [
    {
     "name": "stdout",
     "output_type": "stream",
     "text": [
      "[1, 3, 0, 3]\n"
     ]
    }
   ],
   "source": [
    "# 문제가 개편되었습니다. 이로 인해 함수 구성이나 테스트케이스가 변경되어, 과거의 코드는 동작하지 않을 수 있습니다.\n",
    "# 새로운 함수 구성을 적용하려면 [코드 초기화] 버튼을 누르세요. 단, [코드 초기화] 버튼을 누르면 작성 중인 코드는 사라집니다.\n",
    "def no_continuous(s):\n",
    "    a = []\n",
    "    for i in s:\n",
    "        if a[-1:] == [int(i)]: continue\n",
    "        a.append(int(i))\n",
    "    return a\n",
    "\n",
    "# 아래는 테스트로 출력해 보기 위한 코드입니다.\n",
    "print( no_continuous( \"133303\" ))"
   ]
  }
 ],
 "metadata": {
  "kernelspec": {
   "display_name": "Python 3",
   "language": "python",
   "name": "python3"
  },
  "language_info": {
   "codemirror_mode": {
    "name": "ipython",
    "version": 3
   },
   "file_extension": ".py",
   "mimetype": "text/x-python",
   "name": "python",
   "nbconvert_exporter": "python",
   "pygments_lexer": "ipython3",
   "version": "3.8.8"
  }
 },
 "nbformat": 4,
 "nbformat_minor": 5
}
