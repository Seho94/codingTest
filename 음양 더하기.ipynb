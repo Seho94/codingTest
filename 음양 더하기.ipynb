{
 "cells": [
  {
   "cell_type": "markdown",
   "id": "eecb8ff9",
   "metadata": {},
   "source": [
    "## 문제 설명\n",
    "어떤 정수들이 있습니다. 이 정수들의 절댓값을 차례대로 담은 정수 배열 absolutes와 이 정수들의 부호를 차례대로 담은 불리언 배열 signs가 매개변수로 주어집니다. 실제 정수들의 합을 구하여 return 하도록 solution 함수를 완성해주세요.  \n",
    "\n",
    "## 제한사항\n",
    "absolutes의 길이는 1 이상 1,000 이하입니다.  \n",
    "absolutes의 모든 수는 각각 1 이상 1,000 이하입니다.  \n",
    "signs의 길이는 absolutes의 길이와 같습니다.  \n",
    "signs[i] 가 참이면 absolutes[i] 의 실제 정수가 양수임을, 그렇지 않으면 음수임을 의미합니다.  \n"
   ]
  },
  {
   "cell_type": "code",
   "execution_count": 11,
   "id": "0d0f8b1b",
   "metadata": {},
   "outputs": [
    {
     "name": "stdout",
     "output_type": "stream",
     "text": [
      "9\n",
      "0\n"
     ]
    }
   ],
   "source": [
    "def solution(absolutes, signs):\n",
    "    signs = list(map(lambda x: 1 if x==True else -1, signs))\n",
    "    return sum(map(lambda x,y: x*y, absolutes, signs))\n",
    "\n",
    "print(solution([4,7,12], [True, False, True]))\n",
    "print(solution([1,2,3], [False, False, True]))"
   ]
  },
  {
   "cell_type": "markdown",
   "id": "55c2ea92",
   "metadata": {},
   "source": [
    "## 다른 풀이"
   ]
  },
  {
   "cell_type": "code",
   "execution_count": 12,
   "id": "3d5edfe9",
   "metadata": {},
   "outputs": [
    {
     "name": "stdout",
     "output_type": "stream",
     "text": [
      "9\n",
      "0\n"
     ]
    }
   ],
   "source": [
    "def solution(absolutes, signs):\n",
    "    return sum(absolutes if sign else -absolutes for absolutes, sign in zip(absolutes, signs))\n",
    "\n",
    "print(solution([4,7,12], [True, False, True]))\n",
    "print(solution([1,2,3], [False, False, True]))"
   ]
  }
 ],
 "metadata": {
  "kernelspec": {
   "display_name": "Python 3",
   "language": "python",
   "name": "python3"
  },
  "language_info": {
   "codemirror_mode": {
    "name": "ipython",
    "version": 3
   },
   "file_extension": ".py",
   "mimetype": "text/x-python",
   "name": "python",
   "nbconvert_exporter": "python",
   "pygments_lexer": "ipython3",
   "version": "3.8.8"
  }
 },
 "nbformat": 4,
 "nbformat_minor": 5
}
