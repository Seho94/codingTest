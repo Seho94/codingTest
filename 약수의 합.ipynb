{
 "cells": [
  {
   "cell_type": "markdown",
   "id": "4bcf2960",
   "metadata": {},
   "source": [
    "## 문제 설명\n",
    "정수 n을 입력받아 n의 약수를 모두 더한 값을 리턴하는 함수, solution을 완성해주세요.\n",
    "\n",
    "## 제한 사항\n",
    "n은 0 이상 3000이하인 정수입니다.\n",
    "\n",
    "## 입출력 예\n",
    "n\treturn  \n",
    "12\t28  \n",
    "5\t6  \n",
    "\n",
    "## 입출력 예 설명\n",
    "입출력 예 #1  \n",
    "12의 약수는 1, 2, 3, 4, 6, 12입니다. 이를 모두 더하면 28입니다.  \n",
    "  \n",
    "입출력 예 #2  \n",
    "5의 약수는 1, 5입니다. 이를 모두 더하면 6입니다."
   ]
  },
  {
   "cell_type": "code",
   "execution_count": 11,
   "id": "232e96df",
   "metadata": {},
   "outputs": [
    {
     "name": "stdout",
     "output_type": "stream",
     "text": [
      "0\n",
      "28\n"
     ]
    }
   ],
   "source": [
    "def solution(n):\n",
    "    if n == 0:\n",
    "        return 0\n",
    "    answer = 1\n",
    "    for i in range(n,1,-1):\n",
    "        if n % i == 0:\n",
    "            answer = answer + i\n",
    "    return answer\n",
    "\n",
    "print(solution(0))\n",
    "print(solution(12))"
   ]
  },
  {
   "cell_type": "markdown",
   "id": "f4ce1d71",
   "metadata": {},
   "source": [
    "## 모범 답안"
   ]
  },
  {
   "cell_type": "code",
   "execution_count": 12,
   "id": "eb43ab07",
   "metadata": {},
   "outputs": [
    {
     "name": "stdout",
     "output_type": "stream",
     "text": [
      "0\n",
      "28\n"
     ]
    }
   ],
   "source": [
    "def sumDivisor(num):\n",
    "    # num / 2 의 수들만 검사하면 성능 약 2배 향상잼\n",
    "    return num + sum([i for i in range(1, (num // 2) + 1) if num % i == 0])\n",
    "\n",
    "print(sumDivisor(0))\n",
    "print(sumDivisor(12))"
   ]
  }
 ],
 "metadata": {
  "kernelspec": {
   "display_name": "Python 3",
   "language": "python",
   "name": "python3"
  },
  "language_info": {
   "codemirror_mode": {
    "name": "ipython",
    "version": 3
   },
   "file_extension": ".py",
   "mimetype": "text/x-python",
   "name": "python",
   "nbconvert_exporter": "python",
   "pygments_lexer": "ipython3",
   "version": "3.8.8"
  }
 },
 "nbformat": 4,
 "nbformat_minor": 5
}
