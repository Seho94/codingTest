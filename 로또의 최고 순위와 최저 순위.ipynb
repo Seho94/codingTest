{
 "cells": [
  {
   "cell_type": "markdown",
   "id": "e1d9c78b",
   "metadata": {},
   "source": [
    "## 문제 설명\n",
    "로또 6/45(이하 '로또'로 표기)는 1부터 45까지의 숫자 중 6개를 찍어서 맞히는 대표적인 복권입니다. 아래는 로또의 순위를 정하는 방식입니다.\n",
    "  \n",
    "순위\t당첨 내용  \n",
    "1\t6개 번호가 모두 일치  \n",
    "2\t5개 번호가 일치  \n",
    "3\t4개 번호가 일치  \n",
    "4\t3개 번호가 일치  \n",
    "5\t2개 번호가 일치  \n",
    "6(낙첨)\t그 외  \n",
    "\n",
    "로또를 구매한 민우는 당첨 번호 발표일을 학수고대하고 있었습니다. 하지만, 민우의 동생이 로또에 낙서를 하여, 일부 번호를 알아볼 수 없게 되었습니다. 당첨 번호 발표 후, 민우는 자신이 구매했던 로또로 당첨이 가능했던 최고 순위와 최저 순위를 알아보고 싶어 졌습니다.\n",
    "알아볼 수 없는 번호를 0으로 표기하기로 하고, 민우가 구매한 로또 번호 6개가 44, 1, 0, 0, 31 25라고 가정해보겠습니다. 당첨 번호 6개가 31, 10, 45, 1, 6, 19라면, 당첨 가능한 최고 순위와 최저 순위의 한 예는 아래와 같습니다."
   ]
  },
  {
   "cell_type": "code",
   "execution_count": 48,
   "id": "66c17757",
   "metadata": {},
   "outputs": [
    {
     "name": "stdout",
     "output_type": "stream",
     "text": [
      "[3, 5]\n",
      "[1, 6]\n",
      "[1, 1]\n"
     ]
    }
   ],
   "source": [
    "def solution(lottos, win_nums):\n",
    "    result = []\n",
    "    d = {1:6, 2:5, 3:4, 4:3, 5:2, 6:1}\n",
    "    for i in lottos:\n",
    "        if i in win_nums:\n",
    "            result.append(i)\n",
    "            win_nums.pop(win_nums.index(i))\n",
    "    \n",
    "    # 최저 순위\n",
    "    if len(result) <= 1:\n",
    "        low = 6\n",
    "    else:\n",
    "        low = d[len(result)]\n",
    "        \n",
    "    # 최고 순위\n",
    "    for i in range(lottos.count(0)):\n",
    "        result.append(win_nums[-1])\n",
    "        win_nums.pop(-1)\n",
    "    if len(result) <= 1:\n",
    "        return [6,6]\n",
    "    high = d[len(result)]\n",
    "    return [high,low]\n",
    "\n",
    "print(solution([44, 1, 0, 0, 31, 25], [31, 10, 45, 1, 6, 19]))\n",
    "print(solution([0, 0, 0, 0, 0, 0], [38, 19, 20, 40, 15, 25]))\n",
    "print(solution([45, 4, 35, 20, 3, 9], [20, 9, 3, 45, 4, 35]))"
   ]
  },
  {
   "cell_type": "markdown",
   "id": "d86a7bbf",
   "metadata": {},
   "source": [
    "## 다른 풀이"
   ]
  },
  {
   "cell_type": "code",
   "execution_count": 49,
   "id": "4eb357f8",
   "metadata": {},
   "outputs": [
    {
     "name": "stdout",
     "output_type": "stream",
     "text": [
      "(3, 5)\n",
      "(1, 6)\n",
      "(1, 1)\n"
     ]
    }
   ],
   "source": [
    "def solution(lottos, win_nums):\n",
    "\n",
    "    rank=[6,6,5,4,3,2,1]\n",
    "\n",
    "    cnt_0 = lottos.count(0)\n",
    "    ans = 0\n",
    "    for x in win_nums:\n",
    "        if x in lottos:\n",
    "            ans += 1\n",
    "    return rank[cnt_0 + ans],rank[ans]\n",
    "\n",
    "print(solution([44, 1, 0, 0, 31, 25], [31, 10, 45, 1, 6, 19]))\n",
    "print(solution([0, 0, 0, 0, 0, 0], [38, 19, 20, 40, 15, 25]))\n",
    "print(solution([45, 4, 35, 20, 3, 9], [20, 9, 3, 45, 4, 35]))"
   ]
  }
 ],
 "metadata": {
  "kernelspec": {
   "display_name": "Python 3",
   "language": "python",
   "name": "python3"
  },
  "language_info": {
   "codemirror_mode": {
    "name": "ipython",
    "version": 3
   },
   "file_extension": ".py",
   "mimetype": "text/x-python",
   "name": "python",
   "nbconvert_exporter": "python",
   "pygments_lexer": "ipython3",
   "version": "3.8.8"
  }
 },
 "nbformat": 4,
 "nbformat_minor": 5
}
