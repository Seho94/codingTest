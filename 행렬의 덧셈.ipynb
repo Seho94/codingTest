{
 "cells": [
  {
   "cell_type": "markdown",
   "id": "d261865a",
   "metadata": {},
   "source": [
    "## 문제 설명\n",
    "행렬의 덧셈은 행과 열의 크기가 같은 두 행렬의 같은 행, 같은 열의 값을 서로 더한 결과가 됩니다. 2개의 행렬 arr1과 arr2를 입력받아, 행렬 덧셈의 결과를 반환하는 함수, solution을 완성해주세요.\n",
    "\n",
    "## 제한 조건\n",
    "행렬 arr1, arr2의 행과 열의 길이는 500을 넘지 않습니다.\n",
    "\n",
    "## 입출력 예\n",
    "arr1\tarr2\treturn  \n",
    "[[1,2],[2,3]]\t[[3,4],[5,6]]\t[[4,6],[7,9]]  \n",
    "[[1],[2]]\t[[3],[4]]\t[[4],[6]]  "
   ]
  },
  {
   "cell_type": "code",
   "execution_count": 24,
   "id": "380d367f",
   "metadata": {},
   "outputs": [
    {
     "name": "stdout",
     "output_type": "stream",
     "text": [
      "[[4, 6], [8, 10]]\n"
     ]
    }
   ],
   "source": [
    "li1 = [[1,2], [3,4]]\n",
    "li2 = [[3,4], [5,6]]\n",
    "\n",
    "        \n",
    "def solution(arr1, arr2):\n",
    "    for i in range(len(arr1)):\n",
    "        for j in range(len(arr1[i])):\n",
    "            s = arr1[i][j] + arr2[i][j]\n",
    "            arr1[i][j] = s\n",
    "    return arr1\n",
    "\n",
    "print(solution(li1,li2))"
   ]
  },
  {
   "cell_type": "markdown",
   "id": "d1eae23a",
   "metadata": {},
   "source": [
    "## 모범답안"
   ]
  },
  {
   "cell_type": "code",
   "execution_count": 26,
   "id": "9dfe8f8f",
   "metadata": {},
   "outputs": [
    {
     "name": "stdout",
     "output_type": "stream",
     "text": [
      "[[4, 6], [8, 10]]\n"
     ]
    }
   ],
   "source": [
    "li1 = [[1,2], [3,4]]\n",
    "li2 = [[3,4], [5,6]]\n",
    "\n",
    "def sumMatrix(A,B):\n",
    "    answer = [[c + d for c, d in zip(a, b)] for a, b in zip(A,B)]\n",
    "    return answer\n",
    "\n",
    "print(sumMatrix(li1,li2))"
   ]
  }
 ],
 "metadata": {
  "kernelspec": {
   "display_name": "Python 3",
   "language": "python",
   "name": "python3"
  },
  "language_info": {
   "codemirror_mode": {
    "name": "ipython",
    "version": 3
   },
   "file_extension": ".py",
   "mimetype": "text/x-python",
   "name": "python",
   "nbconvert_exporter": "python",
   "pygments_lexer": "ipython3",
   "version": "3.8.8"
  }
 },
 "nbformat": 4,
 "nbformat_minor": 5
}
