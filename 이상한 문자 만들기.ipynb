{
 "cells": [
  {
   "cell_type": "markdown",
   "id": "513f0274",
   "metadata": {},
   "source": [
    "# 문제 설명\n",
    "문자열 s는 한 개 이상의 단어로 구성되어 있습니다. 각 단어는 하나 이상의 공백문자로 구분되어 있습니다. 각 단어의 짝수번째 알파벳은 대문자로, 홀수번째 알파벳은 소문자로 바꾼 문자열을 리턴하는 함수, solution을 완성하세요.\n",
    "\n",
    "## 제한 사항\n",
    "문자열 전체의 짝/홀수 인덱스가 아니라, 단어(공백을 기준)별로 짝/홀수 인덱스를 판단해야합니다.\n",
    "첫 번째 글자는 0번째 인덱스로 보아 짝수번째 알파벳으로 처리해야 합니다.\n",
    "\n",
    "## input\n",
    "try hello world\n",
    "\n",
    "## output\n",
    "TrY HeLlO WoRlD"
   ]
  },
  {
   "cell_type": "code",
   "execution_count": 58,
   "id": "1caae5c8",
   "metadata": {},
   "outputs": [],
   "source": [
    "s = \"try hello world\""
   ]
  },
  {
   "cell_type": "code",
   "execution_count": 65,
   "id": "4cf47cf9",
   "metadata": {},
   "outputs": [
    {
     "name": "stdout",
     "output_type": "stream",
     "text": [
      "변환 후 결과: TrY HeLlO WoRlD\n"
     ]
    }
   ],
   "source": [
    "def solution(s):\n",
    "    s = s.split(\" \")\n",
    "    answer = ''\n",
    "    for i in range(len(s)):\n",
    "        for j in range(len(s[i])):\n",
    "            if j%2 == 0:\n",
    "                answer = answer + s[i][j].upper()\n",
    "            else:\n",
    "                answer = answer + s[i][j].lower()\n",
    "        if i == len(s)-1:\n",
    "            break\n",
    "        answer = answer + \" \"\n",
    "    return answer\n",
    "\n",
    "print(f\"변환 후 결과: {solution(s)}\")"
   ]
  },
  {
   "cell_type": "markdown",
   "id": "b6691cf6",
   "metadata": {},
   "source": [
    "# 모범 답안\n",
    "   -  map: 리스트의 요소를 지정된 함수로 처리해주는 함수"
   ]
  },
  {
   "cell_type": "code",
   "execution_count": 74,
   "id": "1fb78aee",
   "metadata": {},
   "outputs": [
    {
     "name": "stdout",
     "output_type": "stream",
     "text": [
      "변환 후 결과: TrY HeLlO WoRlD\n"
     ]
    }
   ],
   "source": [
    "def toWeirdCase(s):\n",
    "    return \" \".join(map(lambda x: \"\".join([a.lower() if i % 2 else a.upper() for i, a in enumerate(x)]), s.split(\" \")))\n",
    "\n",
    "print(f\"변환 후 결과: {toWeirdCase(s)}\")"
   ]
  }
 ],
 "metadata": {
  "kernelspec": {
   "display_name": "Python 3",
   "language": "python",
   "name": "python3"
  },
  "language_info": {
   "codemirror_mode": {
    "name": "ipython",
    "version": 3
   },
   "file_extension": ".py",
   "mimetype": "text/x-python",
   "name": "python",
   "nbconvert_exporter": "python",
   "pygments_lexer": "ipython3",
   "version": "3.8.8"
  }
 },
 "nbformat": 4,
 "nbformat_minor": 5
}
