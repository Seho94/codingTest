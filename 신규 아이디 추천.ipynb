{
 "cells": [
  {
   "cell_type": "markdown",
   "id": "26d20a73",
   "metadata": {},
   "source": [
    "## 문제 설명\n",
    "카카오에 입사한 신입 개발자 네오는 \"카카오계정개발팀\"에 배치되어, 카카오 서비스에 가입하는 유저들의 아이디를 생성하는 업무를 담당하게 되었습니다. \"네오\"에게 주어진 첫 업무는 새로 가입하는 유저들이 카카오 아이디 규칙에 맞지 않는 아이디를 입력했을 때, 입력된 아이디와 유사하면서 규칙에 맞는 아이디를 추천해주는 프로그램을 개발하는 것입니다.  \n",
    "\n",
    "## 아이디 규칙\n",
    "아이디의 길이는 3자 이상 15자 이하여야 합니다.  \n",
    "아이디는 알파벳 소문자, 숫자, 빼기(-), 밑줄(_), 마침표(.) 문자만 사용할 수 있습니다.  \n",
    "단, 마침표(.)는 처음과 끝에 사용할 수 없으며 또한 연속으로 사용할 수 없습니다.  \n",
    "\"네오\"는 다음과 같이 7단계의 순차적인 처리 과정을 통해 신규 유저가 입력한 아이디가 카카오 아이디 규칙에 맞는 지 검사하고 규칙에 맞지 않은 경우 규칙에 맞는 새로운 아이디를 추천해 주려고 합니다.  \n",
    "\n",
    "신규 유저가 입력한 아이디가 new_id 라고 한다면,  \n",
    "1단계 new_id의 모든 대문자를 대응되는 소문자로 치환합니다.  \n",
    "2단계 new_id에서 알파벳 소문자, 숫자, 빼기(-), 밑줄(_), 마침표(.)를 제외한 모든 문자를 제거합니다.  \n",
    "3단계 new_id에서 마침표(.)가 2번 이상 연속된 부분을 하나의 마침표(.)로 치환합니다.  \n",
    "4단계 new_id에서 마침표(.)가 처음이나 끝에 위치한다면 제거합니다.  \n",
    "5단계 new_id가 빈 문자열이라면, new_id에 \"a\"를 대입합니다.  \n",
    "6단계 new_id의 길이가 16자 이상이면, new_id의 첫 15개의 문자를 제외한 나머지 문자들을 모두 제거합니다.  \n",
    "     만약 제거 후 마침표(.)가 new_id의 끝에 위치한다면 끝에 위치한 마침표(.) 문자를 제거합니다.  \n",
    "7단계 new_id의 길이가 2자 이하라면, new_id의 마지막 문자를 new_id의 길이가 3이 될 때까지 반복해서 끝에 붙입니다."
   ]
  },
  {
   "cell_type": "code",
   "execution_count": 54,
   "id": "b2941dc6",
   "metadata": {},
   "outputs": [
    {
     "name": "stdout",
     "output_type": "stream",
     "text": [
      "bat.y.abcdefghi\n",
      "z--\n",
      "aaa\n",
      "123_.def\n",
      "abcdefghijklmn\n"
     ]
    }
   ],
   "source": [
    "def solution(new_id):\n",
    "\n",
    "    new_id =  new_id.lower()\n",
    "    \n",
    "    tmp = ''\n",
    "    for i in new_id:\n",
    "        if i.isalnum():\n",
    "            tmp += i\n",
    "            continue\n",
    "        elif i in ['-','_','.']:\n",
    "            tmp += i\n",
    "            continue\n",
    "            \n",
    "    while True:\n",
    "        tmp = tmp.replace('..','.')\n",
    "        if '..' not in tmp:\n",
    "            break\n",
    "    if tmp=='' or tmp == '.':\n",
    "        return 'aaa'\n",
    "        \n",
    "    tmp = tmp.strip('.')\n",
    "    \n",
    "    if len(tmp) <= 2:\n",
    "        tmp = tmp + tmp[-1] * (3 -len(tmp))\n",
    "        \n",
    "    if len(tmp) >= 16:\n",
    "        tmp = tmp[:15]\n",
    "        \n",
    "    tmp = tmp.strip('.')\n",
    "    return tmp\n",
    "\n",
    "print(solution(\"...!@BaT#*..y.abcdefghijklm\"))\n",
    "print(solution(\"z-+.^.\"))\n",
    "print(solution(\"=.=\"))\n",
    "print(solution(\"123_.def\"))\n",
    "print(solution(\"abcdefghijklmn.p\"))"
   ]
  },
  {
   "cell_type": "markdown",
   "id": "a5ec11b8",
   "metadata": {},
   "source": [
    "## 다른 풀이 (정규식 활용)"
   ]
  },
  {
   "cell_type": "code",
   "execution_count": 55,
   "id": "01719b28",
   "metadata": {},
   "outputs": [
    {
     "name": "stdout",
     "output_type": "stream",
     "text": [
      "bat.y.abcdefghi\n",
      "z--\n",
      "aaa\n",
      "123_.def\n",
      "abcdefghijklmn\n"
     ]
    }
   ],
   "source": [
    "import re\n",
    "\n",
    "def solution(new_id):\n",
    "    st = new_id\n",
    "    st = st.lower()\n",
    "    st = re.sub('[^a-z0-9\\-_.]', '', st)\n",
    "    st = re.sub('\\.+', '.', st)\n",
    "    st = re.sub('^[.]|[.]$', '', st)\n",
    "    st = 'a' if len(st) == 0 else st[:15]\n",
    "    st = re.sub('^[.]|[.]$', '', st)\n",
    "    st = st if len(st) > 2 else st + \"\".join([st[-1] for i in range(3-len(st))])\n",
    "    return st\n",
    "\n",
    "print(solution(\"...!@BaT#*..y.abcdefghijklm\"))\n",
    "print(solution(\"z-+.^.\"))\n",
    "print(solution(\"=.=\"))\n",
    "print(solution(\"123_.def\"))\n",
    "print(solution(\"abcdefghijklmn.p\"))"
   ]
  }
 ],
 "metadata": {
  "kernelspec": {
   "display_name": "Python 3",
   "language": "python",
   "name": "python3"
  },
  "language_info": {
   "codemirror_mode": {
    "name": "ipython",
    "version": 3
   },
   "file_extension": ".py",
   "mimetype": "text/x-python",
   "name": "python",
   "nbconvert_exporter": "python",
   "pygments_lexer": "ipython3",
   "version": "3.8.8"
  }
 },
 "nbformat": 4,
 "nbformat_minor": 5
}
