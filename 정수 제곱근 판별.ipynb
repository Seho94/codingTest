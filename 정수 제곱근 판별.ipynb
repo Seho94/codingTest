{
 "cells": [
  {
   "cell_type": "markdown",
   "id": "b60f1cf9",
   "metadata": {},
   "source": [
    "# 문제 설명\n",
    "임의의 양의 정수 n에 대해, n이 어떤 양의 정수 x의 제곱인지 아닌지 판단하려 합니다.\n",
    "n이 양의 정수 x의 제곱이라면 x+1의 제곱을 리턴하고, n이 양의 정수 x의 제곱이 아니라면 -1을 리턴하는 함수를 완성하세요.\n",
    "\n",
    "# 제한 사항\n",
    "n은 1이상, 50000000000000 이하인 양의 정수입니다.\n",
    "\n",
    "## Input & Output\n",
    "입출력 예 설명\n",
    "입출력 예#1\n",
    "121은 양의 정수 11의 제곱이므로, (11+1)를 제곱한 144를 리턴합니다.\n",
    "\n",
    "입출력 예#2\n",
    "3은 양의 정수의 제곱이 아니므로, -1을 리턴합니다."
   ]
  },
  {
   "cell_type": "code",
   "execution_count": 25,
   "id": "8753565c",
   "metadata": {},
   "outputs": [
    {
     "name": "stdout",
     "output_type": "stream",
     "text": [
      "144\n",
      "-1\n"
     ]
    }
   ],
   "source": [
    "def solution(n):\n",
    "    if n**(1/2) - int(n**(1/2)) == 0:\n",
    "        answer = (int(n**(1/2)) + 1) ** 2\n",
    "    else:\n",
    "        answer = -1\n",
    "    return answer\n",
    "\n",
    "print(solution(121))\n",
    "print(solution(3))"
   ]
  }
 ],
 "metadata": {
  "kernelspec": {
   "display_name": "Python 3",
   "language": "python",
   "name": "python3"
  },
  "language_info": {
   "codemirror_mode": {
    "name": "ipython",
    "version": 3
   },
   "file_extension": ".py",
   "mimetype": "text/x-python",
   "name": "python",
   "nbconvert_exporter": "python",
   "pygments_lexer": "ipython3",
   "version": "3.8.8"
  }
 },
 "nbformat": 4,
 "nbformat_minor": 5
}
