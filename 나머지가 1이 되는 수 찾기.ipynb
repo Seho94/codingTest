{
 "cells": [
  {
   "cell_type": "markdown",
   "id": "d1ea8ea9",
   "metadata": {},
   "source": [
    "## 문제 설명\n",
    "자연수 n이 매개변수로 주어집니다. n을 x로 나눈 나머지가 1이 되도록 하는 가장 작은 자연수 x를 return 하도록 solution 함수를 완성해주세요. 답이 항상 존재함은 증명될 수 있습니다.\n",
    "\n",
    "## 제한사항\n",
    "3 ≤ n ≤ 1,000,000\n",
    "## 입출력 예\n",
    "n\tresult  \n",
    "10\t3  \n",
    "12\t11  \n",
    "## 입출력 예 설명\n",
    "입출력 예 #1  \n",
    "10을 3으로 나눈 나머지가 1이고, 3보다 작은 자연수 중에서 문제의 조건을 만족하는 수가 없으므로, 3을 return 해야 합니다.  \n",
    "입출력 예 #2  \n",
    "12를 11로 나눈 나머지가 1이고, 11보다 작은 자연수 중에서 문제의 조건을 만족하는 수가 없으므로, 11을 return 해야 합니다."
   ]
  },
  {
   "cell_type": "code",
   "execution_count": 140,
   "id": "46a79fc6",
   "metadata": {},
   "outputs": [
    {
     "name": "stdout",
     "output_type": "stream",
     "text": [
      "3\n",
      "11\n"
     ]
    }
   ],
   "source": [
    "def solution(n):\n",
    "    for i in range(2,int(n**0.5)+1):\n",
    "        if n % i == 1:\n",
    "            return i\n",
    "    return n-1\n",
    "\n",
    "print(solution(10))\n",
    "print(solution(12))"
   ]
  }
 ],
 "metadata": {
  "kernelspec": {
   "display_name": "Python 3",
   "language": "python",
   "name": "python3"
  },
  "language_info": {
   "codemirror_mode": {
    "name": "ipython",
    "version": 3
   },
   "file_extension": ".py",
   "mimetype": "text/x-python",
   "name": "python",
   "nbconvert_exporter": "python",
   "pygments_lexer": "ipython3",
   "version": "3.8.8"
  }
 },
 "nbformat": 4,
 "nbformat_minor": 5
}
