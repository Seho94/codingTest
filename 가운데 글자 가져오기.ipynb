{
 "cells": [
  {
   "cell_type": "markdown",
   "id": "949cbc25",
   "metadata": {},
   "source": [
    "## 문제 설명\n",
    "단어 s의 가운데 글자를 반환하는 함수, solution을 만들어 보세요. 단어의 길이가 짝수라면 가운데 두글자를 반환하면 됩니다.\n",
    "\n",
    "## 재한사항\n",
    "s는 길이가 1 이상, 100이하인 스트링입니다.  \n",
    "\n",
    "## 입출력 예\n",
    "s\treturn  \n",
    "\"abcde\"\t\"c\"  \n",
    "\"qwer\"\t\"we\"  "
   ]
  },
  {
   "cell_type": "code",
   "execution_count": 1,
   "id": "27d2ee25",
   "metadata": {},
   "outputs": [],
   "source": [
    "def solution(s):\n",
    "    answer = ''\n",
    "    return answer"
   ]
  },
  {
   "cell_type": "code",
   "execution_count": 16,
   "id": "0e32c472",
   "metadata": {},
   "outputs": [
    {
     "name": "stdout",
     "output_type": "stream",
     "text": [
      "c\n",
      "we\n"
     ]
    }
   ],
   "source": [
    "def solution(s):\n",
    "    if len(s) % 2 == 0:\n",
    "        num = int(len(s)/2)\n",
    "        return s[num-1:num+1]\n",
    "    else:\n",
    "        num = int(len(s)/2)\n",
    "        return s[num]\n",
    "    \n",
    "print(solution(\"abcde\"))\n",
    "print(solution(\"qwer\"))"
   ]
  },
  {
   "cell_type": "markdown",
   "id": "da9fdc4e",
   "metadata": {},
   "source": [
    "## 모범답안"
   ]
  },
  {
   "cell_type": "code",
   "execution_count": 18,
   "id": "f09b959c",
   "metadata": {},
   "outputs": [
    {
     "name": "stdout",
     "output_type": "stream",
     "text": [
      "c\n",
      "we\n"
     ]
    }
   ],
   "source": [
    "# 문제가 개편되었습니다. 이로 인해 함수 구성이나 테스트케이스가 변경되어, 과거의 코드는 동작하지 않을 수 있습니다.\n",
    "# 새로운 함수 구성을 적용하려면 [코드 초기화] 버튼을 누르세요. 단, [코드 초기화] 버튼을 누르면 작성 중인 코드는 사라집니다.\n",
    "def string_middle(str):\n",
    "    # 함수를 완성하세요\n",
    "\n",
    "    return str[(len(str)-1)//2:len(str)//2+1]\n",
    "\n",
    "# 아래는 테스트로 출력해 보기 위한 코드입니다.\n",
    "print(string_middle(\"abcde\"))\n",
    "print(string_middle(\"qwer\"))"
   ]
  }
 ],
 "metadata": {
  "kernelspec": {
   "display_name": "Python 3",
   "language": "python",
   "name": "python3"
  },
  "language_info": {
   "codemirror_mode": {
    "name": "ipython",
    "version": 3
   },
   "file_extension": ".py",
   "mimetype": "text/x-python",
   "name": "python",
   "nbconvert_exporter": "python",
   "pygments_lexer": "ipython3",
   "version": "3.8.8"
  }
 },
 "nbformat": 4,
 "nbformat_minor": 5
}
