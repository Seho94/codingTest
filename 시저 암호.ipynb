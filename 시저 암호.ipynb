{
 "cells": [
  {
   "cell_type": "markdown",
   "id": "86099d94",
   "metadata": {},
   "source": [
    "## 문제 설명\n",
    "어떤 문장의 각 알파벳을 일정한 거리만큼 밀어서 다른 알파벳으로 바꾸는 암호화 방식을 시저 암호라고 합니다. 예를 들어 \"AB\"는 1만큼 밀면 \"BC\"가 되고, 3만큼 밀면 \"DE\"가 됩니다. \"z\"는 1만큼 밀면 \"a\"가 됩니다. 문자열 s와 거리 n을 입력받아 s를 n만큼 민 암호문을 만드는 함수, solution을 완성해 보세요.\n",
    "\n",
    "## 제한 조건\n",
    "공백은 아무리 밀어도 공백입니다.  \n",
    "s는 알파벳 소문자, 대문자, 공백으로만 이루어져 있습니다.  \n",
    "s의 길이는 8000이하입니다.  \n",
    "n은 1 이상, 25이하인 자연수입니다.  \n",
    "\n",
    "## 입출력 예\n",
    "s\tn\tresult  \n",
    "\"AB\"\t1\t\"BC\"   \n",
    "\"z\"\t1\t\"a\"  \n",
    "\"a B z\"\t4\t\"e F d\"  "
   ]
  },
  {
   "cell_type": "code",
   "execution_count": null,
   "id": "9156d2f6",
   "metadata": {},
   "outputs": [],
   "source": [
    "def solution(s, n):\n",
    "    answer = ''\n",
    "    return answer"
   ]
  },
  {
   "cell_type": "code",
   "execution_count": 23,
   "id": "c6eab898",
   "metadata": {},
   "outputs": [],
   "source": [
    "s = \"A c z\""
   ]
  },
  {
   "cell_type": "code",
   "execution_count": 19,
   "id": "45e6a031",
   "metadata": {},
   "outputs": [],
   "source": [
    "li = ['a','b','c','d','e','f','g','h','i','j','k','l','m','n','o','p','q','r','s','t','u','v','w','x','y','z']"
   ]
  },
  {
   "cell_type": "code",
   "execution_count": 17,
   "id": "4e24e7bd",
   "metadata": {},
   "outputs": [
    {
     "data": {
      "text/plain": [
       "'z'"
      ]
     },
     "execution_count": 17,
     "metadata": {},
     "output_type": "execute_result"
    }
   ],
   "source": [
    "li[25]"
   ]
  },
  {
   "cell_type": "code",
   "execution_count": 10,
   "id": "b0f4890f",
   "metadata": {},
   "outputs": [
    {
     "data": {
      "text/plain": [
       "3"
      ]
     },
     "execution_count": 10,
     "metadata": {},
     "output_type": "execute_result"
    }
   ],
   "source": [
    "li.index(\"c\") + 1"
   ]
  },
  {
   "cell_type": "code",
   "execution_count": 14,
   "id": "73ff2540",
   "metadata": {},
   "outputs": [
    {
     "data": {
      "text/plain": [
       "'C'"
      ]
     },
     "execution_count": 14,
     "metadata": {},
     "output_type": "execute_result"
    }
   ],
   "source": [
    "\"c\".upper()"
   ]
  },
  {
   "cell_type": "code",
   "execution_count": 37,
   "id": "7435a61a",
   "metadata": {},
   "outputs": [
    {
     "name": "stdout",
     "output_type": "stream",
     "text": [
      "['Ab', 'c', 'z']\n",
      "Bc d b \n"
     ]
    }
   ],
   "source": [
    "s = \"Ab c z\"\n",
    "tmp = s.split(\" \")\n",
    "print(tmp)\n",
    "n = 1\n",
    "answer = \"\"\n",
    "for i in tmp:\n",
    "    if len(i) == 1:\n",
    "        if i.isupper():\n",
    "            idx = li.index(i.lower()) + n\n",
    "            if idx > 25:\n",
    "                idx = idx - 26\n",
    "            answer = answer + li[idx].upper()\n",
    "        else:\n",
    "            idx = li.index(i) + n\n",
    "            if idx > 25:\n",
    "                idx = idx - 25\n",
    "            answer = answer + li[idx].lower()\n",
    "    elif len(i) > 1:\n",
    "        temp = \"\"\n",
    "        for j in i:\n",
    "            if j.isupper():\n",
    "                idx = li.index(j.lower()) + n\n",
    "                if idx > 25:\n",
    "                    idx = idx - 26\n",
    "                temp = temp + li[idx].upper()\n",
    "            else:\n",
    "                idx = li.index(j) + n\n",
    "                if idx > 25:\n",
    "                    idx = idx - 25\n",
    "                temp = temp + li[idx].lower()\n",
    "        answer = answer + temp\n",
    "            \n",
    "    answer = answer + \" \"\n",
    "            \n",
    "print(answer)"
   ]
  },
  {
   "cell_type": "code",
   "execution_count": 57,
   "id": "bf6f8f1a",
   "metadata": {},
   "outputs": [
    {
     "name": "stdout",
     "output_type": "stream",
     "text": [
      "BC\n",
      "a\n",
      "e F d\n"
     ]
    }
   ],
   "source": [
    "def solution(s, n):\n",
    "    li = ['a','b','c','d','e','f','g','h','i','j','k','l','m','n','o','p','q','r','s','t','u','v','w','x','y','z']\n",
    "    tmp = s.split(\" \")\n",
    "    answer = ''\n",
    "    for i in tmp:\n",
    "        if len(i) == 1:\n",
    "            if i.isupper():\n",
    "                idx = li.index(i.lower()) + n\n",
    "                if idx > 25:\n",
    "                    idx = idx - 26\n",
    "                answer = answer + li[idx].upper()\n",
    "            else:\n",
    "                idx = li.index(i) + n\n",
    "                if idx > 25:\n",
    "                    idx = idx - 26\n",
    "                answer = answer + li[idx].lower()\n",
    "        elif len(i) > 1:\n",
    "            temp = \"\"\n",
    "            for j in i:\n",
    "                if j.isupper():\n",
    "                    idx = li.index(j.lower()) + n\n",
    "                    if idx > 25:\n",
    "                        idx = idx - 26\n",
    "                    temp = temp + li[idx].upper()\n",
    "                else:\n",
    "                    idx = li.index(j) + n\n",
    "                    if idx > 25:\n",
    "                        idx = idx - 26\n",
    "                    temp = temp + li[idx].lower()\n",
    "            answer = answer + temp\n",
    "\n",
    "        answer = answer + \" \"\n",
    "    return answer[:-1]\n",
    "\n",
    "print(solution(\"AB\", 1))\n",
    "print(solution(\"z\", 1))\n",
    "print(solution(\"a B z\", 4))"
   ]
  },
  {
   "cell_type": "markdown",
   "id": "4b42e031",
   "metadata": {},
   "source": [
    "## 모범답안\n",
    "\n",
    "ord(문자) : 문자에 해당하는 ASCII 정수값 반환   \n",
    "chr(정수) : 정수에 해당하는 ASCII 문자 반환  "
   ]
  },
  {
   "cell_type": "code",
   "execution_count": 58,
   "id": "f02cc453",
   "metadata": {},
   "outputs": [
    {
     "name": "stdout",
     "output_type": "stream",
     "text": [
      "s는 \"a B z\", n은 4인 경우: e F d\n"
     ]
    }
   ],
   "source": [
    "def caesar(s, n):\n",
    "    s = list(s)\n",
    "    for i in range(len(s)):\n",
    "        if s[i].isupper():\n",
    "            s[i]=chr((ord(s[i])-ord('A')+ n)%26+ord('A'))\n",
    "        elif s[i].islower():\n",
    "            s[i]=chr((ord(s[i])-ord('a')+ n)%26+ord('a'))\n",
    "\n",
    "    return \"\".join(s)\n",
    "    # 주어진 문장을 암호화하여 반환하세요.\n",
    "\n",
    "\n",
    "# 실행을 위한 테스트코드입니다.\n",
    "print('s는 \"a B z\", n은 4인 경우: ' + caesar(\"a B z\", 4))"
   ]
  }
 ],
 "metadata": {
  "kernelspec": {
   "display_name": "Python 3",
   "language": "python",
   "name": "python3"
  },
  "language_info": {
   "codemirror_mode": {
    "name": "ipython",
    "version": 3
   },
   "file_extension": ".py",
   "mimetype": "text/x-python",
   "name": "python",
   "nbconvert_exporter": "python",
   "pygments_lexer": "ipython3",
   "version": "3.8.8"
  }
 },
 "nbformat": 4,
 "nbformat_minor": 5
}
