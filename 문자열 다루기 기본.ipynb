{
 "cells": [
  {
   "cell_type": "markdown",
   "id": "60ae8be7",
   "metadata": {},
   "source": [
    "## 문제 설명\n",
    "문자열 s의 길이가 4 혹은 6이고, 숫자로만 구성돼있는지 확인해주는 함수, solution을 완성하세요. 예를 들어 s가 \"a234\"이면 False를 리턴하고 \"1234\"라면 True를 리턴하면 됩니다.\n",
    "\n",
    "## 제한 사항\n",
    "s는 길이 1 이상, 길이 8 이하인 문자열입니다.  \n",
    "입출력 예  \n",
    "s\treturn  \n",
    "\"a234\"\tfalse  \n",
    "\"1234\"\ttrue  "
   ]
  },
  {
   "cell_type": "code",
   "execution_count": 24,
   "id": "0d311ed8",
   "metadata": {},
   "outputs": [
    {
     "name": "stdout",
     "output_type": "stream",
     "text": [
      "True\n",
      "False\n"
     ]
    }
   ],
   "source": [
    "def solution(s):\n",
    "    if len(s) != 4 and len(s) != 6:\n",
    "        return False\n",
    "    elif s.isdecimal() == True:\n",
    "        return True\n",
    "    else:\n",
    "        return False\n",
    "    \n",
    "print(solution(\"1234\"))\n",
    "print(solution(\"a234\"))"
   ]
  },
  {
   "cell_type": "markdown",
   "id": "bee51148",
   "metadata": {},
   "source": [
    "## 모범답안"
   ]
  },
  {
   "cell_type": "code",
   "execution_count": 26,
   "id": "877ac55f",
   "metadata": {},
   "outputs": [
    {
     "name": "stdout",
     "output_type": "stream",
     "text": [
      "True\n",
      "False\n"
     ]
    }
   ],
   "source": [
    "def alpha_string46(s):\n",
    "    return s.isdigit() and len(s) in (4, 6)\n",
    "\n",
    "# 아래는 테스트로 출력해 보기 위한 코드입니다.\n",
    "print( alpha_string46(\"1234\") )\n",
    "print( alpha_string46(\"a234\") )"
   ]
  }
 ],
 "metadata": {
  "kernelspec": {
   "display_name": "Python 3",
   "language": "python",
   "name": "python3"
  },
  "language_info": {
   "codemirror_mode": {
    "name": "ipython",
    "version": 3
   },
   "file_extension": ".py",
   "mimetype": "text/x-python",
   "name": "python",
   "nbconvert_exporter": "python",
   "pygments_lexer": "ipython3",
   "version": "3.8.8"
  }
 },
 "nbformat": 4,
 "nbformat_minor": 5
}
