{
 "cells": [
  {
   "cell_type": "markdown",
   "id": "e7518f25",
   "metadata": {},
   "source": [
    "## 문제 설명\n",
    "주어진 숫자 중 3개의 수를 더했을 때 소수가 되는 경우의 개수를 구하려고 합니다. 숫자들이 들어있는 배열 nums가 매개변수로 주어질 때, nums에 있는 숫자들 중 서로 다른 3개를 골라 더했을 때 소수가 되는 경우의 개수를 return 하도록 solution 함수를 완성해주세요.\n",
    "\n",
    "## 제한사항\n",
    "nums에 들어있는 숫자의 개수는 3개 이상 50개 이하입니다.  \n",
    "nums의 각 원소는 1 이상 1,000 이하의 자연수이며, 중복된 숫자가 들어있지 않습니다.  "
   ]
  },
  {
   "cell_type": "code",
   "execution_count": 46,
   "id": "5d79bc68",
   "metadata": {},
   "outputs": [],
   "source": [
    "def solution(nums):\n",
    "    temp = []\n",
    "    for i in range(len(nums)-2):\n",
    "        for j in range(i+1,len(nums)):\n",
    "            for k in range(j+1, len(nums)):\n",
    "                temp.append(nums[i]+nums[j]+nums[k])\n",
    "                \n",
    "    print(temp)\n",
    "\n",
    "    idx = []\n",
    "    for i in temp:\n",
    "        for j in range(2,i):\n",
    "            if i % j == 0:\n",
    "                idx.append(temp.index(i))\n",
    "                break\n",
    "\n",
    "    idx = sorted(idx,reverse=True)\n",
    "    for i in idx:\n",
    "        temp.pop(i)\n",
    "    \n",
    "    return len(temp)\n",
    "\n",
    "print(solution([1,2,3,4]))\n",
    "print(solution([1,2,7,6,4]))"
   ]
  },
  {
   "cell_type": "markdown",
   "id": "680f9b45",
   "metadata": {},
   "source": [
    "## 다른 풀이\n",
    "   1. combinations의 활용\n",
    "   2. for else 구문 활용"
   ]
  },
  {
   "cell_type": "code",
   "execution_count": 49,
   "id": "50fa863b",
   "metadata": {},
   "outputs": [
    {
     "name": "stdout",
     "output_type": "stream",
     "text": [
      "1\n",
      "4\n"
     ]
    }
   ],
   "source": [
    "def solution(nums):\n",
    "    from itertools import combinations as cb\n",
    "    answer = 0\n",
    "    for a in cb(nums, 3):\n",
    "        cand = sum(a)\n",
    "        for j in range(2, cand):\n",
    "            if cand%j==0:\n",
    "                break\n",
    "        else:\n",
    "            answer += 1\n",
    "    return answer\n",
    "\n",
    "print(solution([1,2,3,4]))\n",
    "print(solution([1,2,7,6,4]))"
   ]
  }
 ],
 "metadata": {
  "kernelspec": {
   "display_name": "Python 3",
   "language": "python",
   "name": "python3"
  },
  "language_info": {
   "codemirror_mode": {
    "name": "ipython",
    "version": 3
   },
   "file_extension": ".py",
   "mimetype": "text/x-python",
   "name": "python",
   "nbconvert_exporter": "python",
   "pygments_lexer": "ipython3",
   "version": "3.8.8"
  }
 },
 "nbformat": 4,
 "nbformat_minor": 5
}
