{
 "cells": [
  {
   "cell_type": "markdown",
   "id": "dcf6b955",
   "metadata": {},
   "source": [
    "## 문제 설명\n",
    "스마트폰 전화 키패드의 각 칸에 다음과 같이 숫자들이 적혀 있습니다.  \n",
    "  \n",
    "이 전화 키패드에서 왼손과 오른손의 엄지손가락만을 이용해서 숫자만을 입력하려고 합니다.  \n",
    "맨 처음 왼손 엄지손가락은 * 키패드에 오른손 엄지손가락은 # 키패드 위치에서 시작하며, 엄지손가락을 사용하는 규칙은 다음과 같습니다.   \n",
    "엄지손가락은 상하좌우 4가지 방향으로만 이동할 수 있으며 키패드 이동 한 칸은 거리로 1에 해당합니다.  \n",
    "왼쪽 열의 3개의 숫자 1, 4, 7을 입력할 때는 왼손 엄지손가락을 사용합니다.  \n",
    "오른쪽 열의 3개의 숫자 3, 6, 9를 입력할 때는 오른손 엄지손가락을 사용합니다.    \n",
    "가운데 열의 4개의 숫자 2, 5, 8, 0을 입력할 때는 두 엄지손가락의 현재 키패드의 위치에서 더 가까운 엄지손가락을 사용합니다.  \n",
    "4-1. 만약 두 엄지손가락의 거리가 같다면, 오른손잡이는 오른손 엄지손가락, 왼손잡이는 왼손 엄지손가락을 사용합니다.  \n",
    "순서대로 누를 번호가 담긴 배열 numbers, 왼손잡이인지 오른손잡이인 지를 나타내는 문자열 hand가 매개변수로 주어질 때, 각 번호를 누른 엄지손가락이 왼손인 지 오른손인 지를 나타내는 연속된 문자열 형태로 return 하도록 solution 함수를 완성해주세요.  \""
   ]
  },
  {
   "cell_type": "code",
   "execution_count": 64,
   "id": "17fda44c",
   "metadata": {},
   "outputs": [
    {
     "name": "stdout",
     "output_type": "stream",
     "text": [
      "LRLLLRLLRRL\n",
      "LRLLRRLLLRR\n",
      "LLRLLRLLRL\n"
     ]
    }
   ],
   "source": [
    "def solution(numbers, hand):\n",
    "    result = \"\"\n",
    "    left = \"*\"\n",
    "    right = \"#\"\n",
    "    pad = [[1,2,3], [4,5,6], [7,8,9], [\"*\",0,\"#\"]]\n",
    "    for i in numbers:\n",
    "        tmp = [j for j in pad if i in j][0]\n",
    "        if i in [1,4,7]:\n",
    "            result += \"L\"\n",
    "            left = i\n",
    "            continue\n",
    "        elif i in [3,6,9]:\n",
    "            result += \"R\"\n",
    "            right = i\n",
    "            continue\n",
    "        # 가로\n",
    "        left_dist = abs(pad.index(tmp) - pad.index([j for j in pad if left in j][0]))\n",
    "        right_dist = abs(pad.index(tmp) - pad.index([j for j in pad if right in j][0]))\n",
    "        # 세로\n",
    "        left_dist = left_dist + abs(tmp.index(i) - [j for j in pad if left in j][0].index(left))\n",
    "        right_dist = right_dist + abs(tmp.index(i) - [j for j in pad if right in j][0].index(right))\n",
    "\n",
    "        if hand == \"left\":\n",
    "            if left_dist == 0 or left_dist <= right_dist:\n",
    "                result += \"L\"\n",
    "                left = i\n",
    "            else:\n",
    "                result += \"R\"\n",
    "                right = i\n",
    "        else:\n",
    "            if right_dist == 0 or right_dist <= left_dist:\n",
    "                result += \"R\"\n",
    "                right = i\n",
    "            else:\n",
    "                result += \"L\"\n",
    "                left = i\n",
    "    return result\n",
    "\n",
    "print(solution([1, 3, 4, 5, 8, 2, 1, 4, 5, 9, 5], \"right\"))\n",
    "print(solution([7, 0, 8, 2, 8, 3, 1, 5, 7, 6, 2], \"left\"))\n",
    "print(solution([1, 2, 3, 4, 5, 6, 7, 8, 9, 0], \"right\"))"
   ]
  },
  {
   "cell_type": "markdown",
   "id": "2074f407",
   "metadata": {},
   "source": [
    "## 다른 풀이"
   ]
  },
  {
   "cell_type": "code",
   "execution_count": 65,
   "id": "4f829fcc",
   "metadata": {},
   "outputs": [
    {
     "name": "stdout",
     "output_type": "stream",
     "text": [
      "LRLLLRLLRRL\n",
      "LRLLRRLLLRR\n",
      "LLRLLRLLRL\n"
     ]
    }
   ],
   "source": [
    "def solution(numbers, hand):\n",
    "    answer = ''\n",
    "    key_dict = {1:(0,0),2:(0,1),3:(0,2),\n",
    "                4:(1,0),5:(1,1),6:(1,2),\n",
    "                7:(2,0),8:(2,1),9:(2,2),\n",
    "                '*':(3,0),0:(3,1),'#':(3,2)}\n",
    "\n",
    "    left = [1,4,7]\n",
    "    right = [3,6,9]\n",
    "    lhand = '*'\n",
    "    rhand = '#'\n",
    "    for i in numbers:\n",
    "        if i in left:\n",
    "            answer += 'L'\n",
    "            lhand = i\n",
    "        elif i in right:\n",
    "            answer += 'R'\n",
    "            rhand = i\n",
    "        else:\n",
    "            curPos = key_dict[i]\n",
    "            lPos = key_dict[lhand]\n",
    "            rPos = key_dict[rhand]\n",
    "            ldist = abs(curPos[0]-lPos[0]) + abs(curPos[1]-lPos[1])\n",
    "            rdist = abs(curPos[0]-rPos[0]) + abs(curPos[1]-rPos[1])\n",
    "\n",
    "            if ldist < rdist:\n",
    "                answer += 'L'\n",
    "                lhand = i\n",
    "            elif ldist > rdist:\n",
    "                answer += 'R'\n",
    "                rhand = i\n",
    "            else:\n",
    "                if hand == 'left':\n",
    "                    answer += 'L'\n",
    "                    lhand = i\n",
    "                else:\n",
    "                    answer += 'R'\n",
    "                    rhand = i\n",
    "\n",
    "    return answer\n",
    "\n",
    "print(solution([1, 3, 4, 5, 8, 2, 1, 4, 5, 9, 5], \"right\"))\n",
    "print(solution([7, 0, 8, 2, 8, 3, 1, 5, 7, 6, 2], \"left\"))\n",
    "print(solution([1, 2, 3, 4, 5, 6, 7, 8, 9, 0], \"right\"))"
   ]
  }
 ],
 "metadata": {
  "kernelspec": {
   "display_name": "Python 3",
   "language": "python",
   "name": "python3"
  },
  "language_info": {
   "codemirror_mode": {
    "name": "ipython",
    "version": 3
   },
   "file_extension": ".py",
   "mimetype": "text/x-python",
   "name": "python",
   "nbconvert_exporter": "python",
   "pygments_lexer": "ipython3",
   "version": "3.8.8"
  }
 },
 "nbformat": 4,
 "nbformat_minor": 5
}
