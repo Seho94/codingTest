{
 "cells": [
  {
   "cell_type": "markdown",
   "id": "a2f4d232",
   "metadata": {},
   "source": [
    "# 자연수 뒤집어 배열로 만들기\n",
    "## 문제 설명\n",
    "자연수 n을 뒤집어 각 자리 숫자를 원소로 가지는 배열 형태로 리턴해주세요. 예를들어 n이 12345이면 [5,4,3,2,1]을 리턴합니다.\n",
    "\n",
    "## 제한 조건\n",
    "n은 10,000,000,000이하인 자연수입니다.\n",
    "\n",
    "### Input\n",
    "12345\n",
    "### Output\n",
    "[5,4,3,2,1]"
   ]
  },
  {
   "cell_type": "code",
   "execution_count": 99,
   "id": "e90914e9",
   "metadata": {},
   "outputs": [
    {
     "name": "stdout",
     "output_type": "stream",
     "text": [
      "결과:[5, 4, 3, 2, 1]\n"
     ]
    }
   ],
   "source": [
    "n = 12345\n",
    "def solution(n):\n",
    "    answer = list(map(int,reversed(str(n))))\n",
    "    return answer\n",
    "\n",
    "print(f\"결과:{solution(n)}\")"
   ]
  }
 ],
 "metadata": {
  "kernelspec": {
   "display_name": "Python 3",
   "language": "python",
   "name": "python3"
  },
  "language_info": {
   "codemirror_mode": {
    "name": "ipython",
    "version": 3
   },
   "file_extension": ".py",
   "mimetype": "text/x-python",
   "name": "python",
   "nbconvert_exporter": "python",
   "pygments_lexer": "ipython3",
   "version": "3.8.8"
  }
 },
 "nbformat": 4,
 "nbformat_minor": 5
}
