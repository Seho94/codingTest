{
 "cells": [
  {
   "cell_type": "markdown",
   "id": "f2084ed9",
   "metadata": {},
   "source": [
    "## 문제 설명\n",
    "괄호가 바르게 짝지어졌다는 것은 '(' 문자로 열렸으면 반드시 짝지어서 ')' 문자로 닫혀야 한다는 뜻입니다.  \n",
    "\n",
    "예를 들어  \n",
    "\"()()\" 또는 \"(())()\" 는 올바른 괄호입니다.  \n",
    "\")()(\" 또는 \"(()(\" 는 올바르지 않은 괄호입니다.  \n",
    "'(' 또는 ')' 로만 이루어진 문자열 s가 주어졌을 때, 문자열 s가 올바른 괄호이면 true를 return 하고, 올바르지 않은 괄호이면 false를 return 하는 solution 함수를 완성해 주세요.  \n",
    "  \n",
    "## 제한사항\n",
    "문자열 s의 길이 : 100,000 이하의 자연수  \n",
    "문자열 s는 '(' 또는 ')' 로만 이루어져 있습니다."
   ]
  },
  {
   "cell_type": "code",
   "execution_count": 18,
   "id": "108abb43",
   "metadata": {},
   "outputs": [
    {
     "name": "stdout",
     "output_type": "stream",
     "text": [
      "True\n",
      "True\n",
      "False\n",
      "False\n"
     ]
    }
   ],
   "source": [
    "def solution(s):\n",
    "    if s.count('(') != s.count(')'):\n",
    "        return False\n",
    "    count = 0\n",
    "    for i in range(len(s)):\n",
    "        if s[i] == \"(\":\n",
    "            count += 1\n",
    "        else:\n",
    "            count -= 1\n",
    "        if count < 0:\n",
    "            return False\n",
    "    return True\n",
    "\n",
    "print(solution(\"()()\"))\n",
    "print(solution(\"(())()\"))\n",
    "print(solution(\")()(\"))\n",
    "print(solution(\"(()(\"))"
   ]
  },
  {
   "cell_type": "markdown",
   "id": "0ab5d47a",
   "metadata": {},
   "source": [
    "## 다른 풀이"
   ]
  },
  {
   "cell_type": "code",
   "execution_count": 19,
   "id": "2704f3a7",
   "metadata": {},
   "outputs": [
    {
     "name": "stdout",
     "output_type": "stream",
     "text": [
      "True\n",
      "True\n",
      "False\n",
      "False\n"
     ]
    }
   ],
   "source": [
    "def is_pair(s):\n",
    "    # 함수를 완성하세요\n",
    "    x = 0\n",
    "    for w in s:\n",
    "        if x < 0:\n",
    "            break\n",
    "        x = x+1 if w==\"(\" else x-1 if w==\")\" else x\n",
    "    return x==0\n",
    "\n",
    "print(is_pair(\"()()\"))\n",
    "print(is_pair(\"(())()\"))\n",
    "print(is_pair(\")()(\"))\n",
    "print(is_pair(\"(()(\"))"
   ]
  },
  {
   "cell_type": "markdown",
   "id": "6ed5ad72",
   "metadata": {},
   "source": [
    "## 활용\n",
    "   - 거의 비슷해서 count == 0 부분을 통해 앞선 if문 제거"
   ]
  },
  {
   "cell_type": "code",
   "execution_count": 20,
   "id": "3d916ba3",
   "metadata": {},
   "outputs": [
    {
     "name": "stdout",
     "output_type": "stream",
     "text": [
      "True\n",
      "True\n",
      "False\n",
      "False\n"
     ]
    }
   ],
   "source": [
    "def solution(s):\n",
    "    count = 0\n",
    "    for i in range(len(s)):\n",
    "        if s[i] == \"(\":\n",
    "            count += 1\n",
    "        else:\n",
    "            count -= 1\n",
    "        if count < 0:\n",
    "            return False\n",
    "    return count==0\n",
    "\n",
    "print(solution(\"()()\"))\n",
    "print(solution(\"(())()\"))\n",
    "print(solution(\")()(\"))\n",
    "print(solution(\"(()(\"))"
   ]
  }
 ],
 "metadata": {
  "kernelspec": {
   "display_name": "Python 3",
   "language": "python",
   "name": "python3"
  },
  "language_info": {
   "codemirror_mode": {
    "name": "ipython",
    "version": 3
   },
   "file_extension": ".py",
   "mimetype": "text/x-python",
   "name": "python",
   "nbconvert_exporter": "python",
   "pygments_lexer": "ipython3",
   "version": "3.8.8"
  }
 },
 "nbformat": 4,
 "nbformat_minor": 5
}
