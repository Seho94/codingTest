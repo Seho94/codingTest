{
 "cells": [
  {
   "cell_type": "markdown",
   "id": "aee16f61",
   "metadata": {},
   "source": [
    "## 문제 설명\n",
    "자연수 n이 주어졌을 때, n의 다음 큰 숫자는 다음과 같이 정의 합니다.  \n",
    "  \n",
    "조건 1. n의 다음 큰 숫자는 n보다 큰 자연수 입니다.  \n",
    "조건 2. n의 다음 큰 숫자와 n은 2진수로 변환했을 때 1의 갯수가 같습니다.  \n",
    "조건 3. n의 다음 큰 숫자는 조건 1, 2를 만족하는 수 중 가장 작은 수 입니다.  \n",
    "예를 들어서 78(1001110)의 다음 큰 숫자는 83(1010011)입니다.  \n",
    "  \n",
    "자연수 n이 매개변수로 주어질 때, n의 다음 큰 숫자를 return 하는 solution 함수를 완성해주세요.  \n",
    "\n",
    "## 제한 사항\n",
    "n은 1,000,000 이하의 자연수 입니다."
   ]
  },
  {
   "cell_type": "code",
   "execution_count": 18,
   "id": "3cea1c94",
   "metadata": {},
   "outputs": [
    {
     "name": "stdout",
     "output_type": "stream",
     "text": [
      "83\n",
      "23\n"
     ]
    }
   ],
   "source": [
    "def solution(n):\n",
    "    c = format(n,'b').count('1')\n",
    "    i = 1\n",
    "    while True:\n",
    "        tmp = format(n+i, 'b')\n",
    "        if tmp.count('1') == c:\n",
    "            return n+i\n",
    "        i += 1\n",
    "        \n",
    "print(solution(78))\n",
    "print(solution(15))"
   ]
  },
  {
   "cell_type": "markdown",
   "id": "8c16fe6c",
   "metadata": {},
   "source": [
    "## 다른 풀이"
   ]
  },
  {
   "cell_type": "code",
   "execution_count": 19,
   "id": "d1656f39",
   "metadata": {},
   "outputs": [
    {
     "name": "stdout",
     "output_type": "stream",
     "text": [
      "83\n"
     ]
    }
   ],
   "source": [
    "def nextBigNumber(n):\n",
    "    num1 = bin(n).count('1')\n",
    "    while True:\n",
    "        n = n + 1\n",
    "        if num1 == bin(n).count('1'):\n",
    "            break\n",
    "    return n\n",
    "\n",
    "#아래 코드는 테스트를 위한 출력 코드입니다.\n",
    "print(nextBigNumber(78))"
   ]
  }
 ],
 "metadata": {
  "kernelspec": {
   "display_name": "Python 3",
   "language": "python",
   "name": "python3"
  },
  "language_info": {
   "codemirror_mode": {
    "name": "ipython",
    "version": 3
   },
   "file_extension": ".py",
   "mimetype": "text/x-python",
   "name": "python",
   "nbconvert_exporter": "python",
   "pygments_lexer": "ipython3",
   "version": "3.8.8"
  }
 },
 "nbformat": 4,
 "nbformat_minor": 5
}
