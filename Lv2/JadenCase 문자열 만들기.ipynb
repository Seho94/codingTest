{
 "cells": [
  {
   "cell_type": "markdown",
   "id": "cb81e5ae",
   "metadata": {},
   "source": [
    "## 문제 설명\n",
    "JadenCase란 모든 단어의 첫 문자가 대문자이고, 그 외의 알파벳은 소문자인 문자열입니다. 문자열 s가 주어졌을 때, s를 JadenCase로 바꾼 문자열을 리턴하는 함수, solution을 완성해주세요.\n",
    "\n",
    "## 제한 조건\n",
    "s는 길이 1 이상인 문자열입니다.  \n",
    "s는 알파벳과 공백문자(\" \")로 이루어져 있습니다.  \n",
    "첫 문자가 영문이 아닐때에는 이어지는 영문은 소문자로 씁니다. ( 첫번째 입출력 예 참고 )"
   ]
  },
  {
   "cell_type": "code",
   "execution_count": 74,
   "id": "05289d6a",
   "metadata": {},
   "outputs": [
    {
     "name": "stdout",
     "output_type": "stream",
     "text": [
      "['3people', 'Unfollowed', 'Me']\n",
      "3people Unfollowed Me\n",
      "['For', 'The', 'Last', 'Week']\n",
      "For The Last Week\n",
      "['3forthelastweek']\n",
      "3forthelastweek\n",
      "['3for', '', '', '', '', 'Thelast', '', '', '', '3wee', 'K']\n",
      "3for     Thelast    3wee K\n"
     ]
    }
   ],
   "source": [
    "def solution(s):\n",
    "    s = s.lower()\n",
    "    s = s.split(\" \")\n",
    "    s = [i if i == '' else i[0].upper() + i[1:] if i[0].isalpha() else i for i in s]\n",
    "    return ' '.join(s)\n",
    "\n",
    "print(solution(\"3people Unfollowed Me\"))\n",
    "print(solution(\"for the last week\"))\n",
    "print(solution(\" 3forthelastweek\"))\n",
    "print(solution(\"3for     thelast    3weE k\"))"
   ]
  },
  {
   "cell_type": "markdown",
   "id": "88c83a30",
   "metadata": {},
   "source": [
    "## 다른 풀이"
   ]
  },
  {
   "cell_type": "code",
   "execution_count": 75,
   "id": "3c6087e1",
   "metadata": {},
   "outputs": [
    {
     "name": "stdout",
     "output_type": "stream",
     "text": [
      "3People Unfollowed Me\n",
      "For The Last Week\n",
      " 3Forthelastweek\n",
      "3For     Thelast    3Wee K\n"
     ]
    }
   ],
   "source": [
    "def solution(s):\n",
    "    return s.title()\n",
    "\n",
    "print(solution(\"3people Unfollowed Me\"))\n",
    "print(solution(\"for the last week\"))\n",
    "print(solution(\" 3forthelastweek\"))\n",
    "print(solution(\"3for     thelast    3weE k\"))"
   ]
  }
 ],
 "metadata": {
  "kernelspec": {
   "display_name": "Python 3",
   "language": "python",
   "name": "python3"
  },
  "language_info": {
   "codemirror_mode": {
    "name": "ipython",
    "version": 3
   },
   "file_extension": ".py",
   "mimetype": "text/x-python",
   "name": "python",
   "nbconvert_exporter": "python",
   "pygments_lexer": "ipython3",
   "version": "3.8.8"
  }
 },
 "nbformat": 4,
 "nbformat_minor": 5
}
