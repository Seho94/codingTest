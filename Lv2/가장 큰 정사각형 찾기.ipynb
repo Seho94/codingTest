{
 "cells": [
  {
   "cell_type": "markdown",
   "id": "09b650f7",
   "metadata": {},
   "source": [
    "## 문제 설명\n",
    "1와 0로 채워진 표(board)가 있습니다. 표 1칸은 1 x 1 의 정사각형으로 이루어져 있습니다.  \n",
    "표에서 1로 이루어진 가장 큰 정사각형을 찾아 넓이를 return 하는 solution 함수를 완성해 주세요.  \n",
    "(단, 정사각형이란 축에 평행한 정사각형을 말합니다.)  "
   ]
  },
  {
   "cell_type": "code",
   "execution_count": 35,
   "id": "4c81bf31",
   "metadata": {},
   "outputs": [
    {
     "name": "stdout",
     "output_type": "stream",
     "text": [
      "9\n"
     ]
    }
   ],
   "source": [
    "def solution(board):\n",
    "    n = len(board)\n",
    "    m = len(board[0])\n",
    "\n",
    "    dp = [[0]*m for _ in range(n)]\n",
    "    dp[0] = board[0]\n",
    "    for i in range(1,n):\n",
    "        dp[i][0] = board[i][0]\n",
    "    \n",
    "    for i in range(1, n):\n",
    "        for j in range(1, m):\n",
    "            if board[i][j] == 1:\n",
    "                dp[i][j] = min(dp[i-1][j-1], dp[i-1][j], dp[i][j-1]) + 1\n",
    "                \n",
    "    answer = 0\n",
    "    for i in range(n):\n",
    "        temp = max(dp[i])\n",
    "        answer = max(answer, temp)\n",
    "    \n",
    "    return answer**2\n",
    "\n",
    "print(solution(board))"
   ]
  },
  {
   "cell_type": "markdown",
   "id": "63f28c1a",
   "metadata": {},
   "source": [
    "동적프로그래밍의 중요성  \n",
    "Lv1부터 쭉 풀어오고 알고리즘 해결능력이 강화되었다 생각했는데, 알고리즘의 공부 필요성을 느끼게 된 문제"
   ]
  }
 ],
 "metadata": {
  "kernelspec": {
   "display_name": "Python 3",
   "language": "python",
   "name": "python3"
  },
  "language_info": {
   "codemirror_mode": {
    "name": "ipython",
    "version": 3
   },
   "file_extension": ".py",
   "mimetype": "text/x-python",
   "name": "python",
   "nbconvert_exporter": "python",
   "pygments_lexer": "ipython3",
   "version": "3.8.8"
  }
 },
 "nbformat": 4,
 "nbformat_minor": 5
}
