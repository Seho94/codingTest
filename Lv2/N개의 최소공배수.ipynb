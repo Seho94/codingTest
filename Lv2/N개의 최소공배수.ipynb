{
 "cells": [
  {
   "cell_type": "markdown",
   "id": "b0e629f2",
   "metadata": {},
   "source": [
    "## 문제 설명\n",
    "두 수의 최소공배수(Least Common Multiple)란 입력된 두 수의 배수 중 공통이 되는 가장 작은 숫자를 의미합니다. 예를 들어 2와 7의 최소공배수는 14가 됩니다. 정의를 확장해서, n개의 수의 최소공배수는 n 개의 수들의 배수 중 공통이 되는 가장 작은 숫자가 됩니다. n개의 숫자를 담은 배열 arr이 입력되었을 때 이 수들의 최소공배수를 반환하는 함수, solution을 완성해 주세요.\n",
    "\n",
    "## 제한 사항\n",
    "arr은 길이 1이상, 15이하인 배열입니다.  \n",
    "arr의 원소는 100 이하인 자연수입니다.\n",
    "\n",
    "## 입출력 예\n",
    "arr\tresult  \n",
    "[2,6,8,14]\t168  \n",
    "[1,2,3]\t6  "
   ]
  },
  {
   "cell_type": "code",
   "execution_count": 37,
   "id": "dfd68301",
   "metadata": {},
   "outputs": [
    {
     "name": "stdout",
     "output_type": "stream",
     "text": [
      "168\n",
      "6\n",
      "90\n"
     ]
    }
   ],
   "source": [
    "def solution(arr):\n",
    "    arr = sorted(arr)\n",
    "    tmp = 1\n",
    "    while True:\n",
    "        tmp_li = [i//2 if i%2==0 else i for i in arr]\n",
    "        if tmp_li == arr:\n",
    "            break\n",
    "        else:\n",
    "            tmp = tmp * 2\n",
    "            arr = tmp_li\n",
    "    while True:\n",
    "        tmp_li = [i//3 if i%3==0 else i for i in arr]\n",
    "        if tmp_li == arr:\n",
    "            break\n",
    "        else:\n",
    "            tmp = tmp * 3\n",
    "            arr = tmp_li \n",
    "    while True:\n",
    "        tmp_li = [i//5 if i%5==0 else i for i in arr]\n",
    "        if tmp_li == arr:\n",
    "            break\n",
    "        else:\n",
    "            tmp = tmp * 5\n",
    "            arr = tmp_li\n",
    "    while True:\n",
    "        if len(arr) == 1:\n",
    "            tmp = tmp * arr[0]\n",
    "            break\n",
    "        num = arr.pop(0)\n",
    "        tmp = tmp * num\n",
    "        arr = [i//num if i%num==0 else i for i in arr]\n",
    "    return tmp\n",
    "\n",
    "print(solution([2,6,8,14]))\n",
    "print(solution([1,2,3]))\n",
    "print(solution([6,9,10,15])) "
   ]
  },
  {
   "cell_type": "markdown",
   "id": "1fa1218f",
   "metadata": {},
   "source": [
    "## 다른 풀이"
   ]
  },
  {
   "cell_type": "code",
   "execution_count": 40,
   "id": "0480ec6e",
   "metadata": {},
   "outputs": [
    {
     "name": "stdout",
     "output_type": "stream",
     "text": [
      "168.0\n"
     ]
    },
    {
     "name": "stderr",
     "output_type": "stream",
     "text": [
      "<ipython-input-40-d243433cc399>:9: DeprecationWarning: fractions.gcd() is deprecated. Use math.gcd() instead.\n",
      "  answer = n * answer / gcd(n, answer)\n"
     ]
    }
   ],
   "source": [
    "import math\n",
    "\n",
    "def nlcm(num):      \n",
    "    answer = num[0]\n",
    "    for n in num:\n",
    "        answer = n * answer / math.gcd(n, int(answer))\n",
    "\n",
    "    return answer\n",
    "\n",
    "# 아래는 테스트로 출력해 보기 위한 코드입니다.\n",
    "print(nlcm([2,6,8,14]));"
   ]
  }
 ],
 "metadata": {
  "kernelspec": {
   "display_name": "Python 3",
   "language": "python",
   "name": "python3"
  },
  "language_info": {
   "codemirror_mode": {
    "name": "ipython",
    "version": 3
   },
   "file_extension": ".py",
   "mimetype": "text/x-python",
   "name": "python",
   "nbconvert_exporter": "python",
   "pygments_lexer": "ipython3",
   "version": "3.8.8"
  }
 },
 "nbformat": 4,
 "nbformat_minor": 5
}
