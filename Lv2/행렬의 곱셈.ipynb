{
 "cells": [
  {
   "cell_type": "markdown",
   "id": "48118df8",
   "metadata": {},
   "source": [
    "## 문제 설명\n",
    "2차원 행렬 arr1과 arr2를 입력받아, arr1에 arr2를 곱한 결과를 반환하는 함수, solution을 완성해주세요.\n",
    "\n",
    "## 제한 조건\n",
    "행렬 arr1, arr2의 행과 열의 길이는 2 이상 100 이하입니다.  \n",
    "행렬 arr1, arr2의 원소는 -10 이상 20 이하인 자연수입니다.  \n",
    "곱할 수 있는 배열만 주어집니다.  "
   ]
  },
  {
   "cell_type": "code",
   "execution_count": 4,
   "id": "2f782f31",
   "metadata": {},
   "outputs": [
    {
     "name": "stdout",
     "output_type": "stream",
     "text": [
      "[[15, 15], [15, 15], [15, 15]]\n",
      "[[22, 22, 11], [36, 28, 18], [29, 20, 14]]\n"
     ]
    }
   ],
   "source": [
    "def solution(arr1, arr2):\n",
    "    li = []\n",
    "    for i in arr1:\n",
    "        tmp_li = []\n",
    "        for j in range(len(arr2)):\n",
    "            tmp = [i[k] * arr2[k][j] for k in range(len(i))]\n",
    "            tmp_li.append(sum(tmp))\n",
    "        li.append(tmp_li)\n",
    "    return li\n",
    "\n",
    "print(solution([[1, 4], [3, 2], [4, 1]], [[3, 3], [3, 3]]))\n",
    "print(solution([[2, 3, 2], [4, 2, 4], [3, 1, 4]], [[5, 4, 3], [2, 4, 1], [3, 1, 1]]))"
   ]
  },
  {
   "cell_type": "markdown",
   "id": "3619eca4",
   "metadata": {},
   "source": [
    "예제문제는 정답처리가 되었으나, 채점의 경우 런타임 오류 발생"
   ]
  },
  {
   "cell_type": "code",
   "execution_count": 32,
   "id": "5791f1f6",
   "metadata": {},
   "outputs": [
    {
     "name": "stdout",
     "output_type": "stream",
     "text": [
      "[[15, 15], [15, 15], [15, 15]]\n",
      "[[22, 22, 11], [36, 28, 18], [29, 20, 14]]\n"
     ]
    }
   ],
   "source": [
    "def solution(arr1, arr2):\n",
    "    answer = []\n",
    "    for i in range(len(arr1)):\n",
    "        tmp_li = []\n",
    "        for j in range(len(arr2[0])):\n",
    "            s = 0\n",
    "            for k in range(len(arr1[0])):\n",
    "                s += arr1[i][k] * arr2[k][j]\n",
    "            tmp_li.append(s)\n",
    "        answer.append(tmp_li)\n",
    "    return answer\n",
    "\n",
    "print(solution([[1, 4], [3, 2], [4, 1]], [[3, 3], [3, 3]]))\n",
    "print(solution([[2, 3, 2], [4, 2, 4], [3, 1, 4]], [[5, 4, 3], [2, 4, 1], [3, 1, 1]]))"
   ]
  },
  {
   "cell_type": "markdown",
   "id": "1c840bd9",
   "metadata": {},
   "source": [
    "## 다른 풀이"
   ]
  },
  {
   "cell_type": "code",
   "execution_count": 33,
   "id": "641da5f8",
   "metadata": {},
   "outputs": [
    {
     "name": "stdout",
     "output_type": "stream",
     "text": [
      "결과 : [[13, 16], [21, 26]]\n"
     ]
    }
   ],
   "source": [
    "def productMatrix(A, B):\n",
    "    return [[sum(a*b for a, b in zip(A_row,B_col)) for B_col in zip(*B)] for A_row in A]\n",
    "\n",
    "# 아래는 테스트로 출력해 보기 위한 코드입니다.\n",
    "a = [ [ 1, 2 ], [ 2, 3 ]];\n",
    "b = [[ 3, 4], [5, 6]];\n",
    "print(\"결과 : {}\".format(productMatrix(a,b)));"
   ]
  }
 ],
 "metadata": {
  "kernelspec": {
   "display_name": "Python 3",
   "language": "python",
   "name": "python3"
  },
  "language_info": {
   "codemirror_mode": {
    "name": "ipython",
    "version": 3
   },
   "file_extension": ".py",
   "mimetype": "text/x-python",
   "name": "python",
   "nbconvert_exporter": "python",
   "pygments_lexer": "ipython3",
   "version": "3.8.8"
  }
 },
 "nbformat": 4,
 "nbformat_minor": 5
}
