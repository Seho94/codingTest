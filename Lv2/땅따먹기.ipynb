{
 "cells": [
  {
   "cell_type": "markdown",
   "id": "7389913f",
   "metadata": {},
   "source": [
    "## 문제 설명\n",
    "땅따먹기 게임을 하려고 합니다. 땅따먹기 게임의 땅(land)은 총 N행 4열로 이루어져 있고, 모든 칸에는 점수가 쓰여 있습니다. 1행부터 땅을 밟으며 한 행씩 내려올 때, 각 행의 4칸 중 한 칸만 밟으면서 내려와야 합니다. 단, 땅따먹기 게임에는 한 행씩 내려올 때, 같은 열을 연속해서 밟을 수 없는 특수 규칙이 있습니다.  \n",
    "\n",
    "예를 들면,  \n",
    "| 1 | 2 | 3 | 5 |  \n",
    "| 5 | 6 | 7 | 8 |  \n",
    "| 4 | 3 | 2 | 1 |  \n",
    "로 땅이 주어졌다면, 1행에서 네번째 칸 (5)를 밟았으면, 2행의 네번째 칸 (8)은 밟을 수 없습니다.  \n",
    "  \n",
    "마지막 행까지 모두 내려왔을 때, 얻을 수 있는 점수의 최대값을 return하는 solution 함수를 완성해 주세요. 위 예의 경우, 1행의 네번째 칸 (5), 2행의 세번째 칸 (7), 3행의 첫번째 칸 (4) 땅을 밟아 16점이 최고점이 되므로 16을 return 하면 됩니다.  \n",
    "\n",
    "## 제한사항\n",
    "행의 개수 N : 100,000 이하의 자연수  \n",
    "열의 개수는 4개이고, 땅(land)은 2차원 배열로 주어집니다.  \n",
    "점수 : 100 이하의 자연수  \n",
    "## 입출력 예\n",
    "land\tanswer  \n",
    "[[1,2,3,5],[5,6,7,8],[4,3,2,1]]\t16  "
   ]
  },
  {
   "cell_type": "code",
   "execution_count": 77,
   "id": "69293a37",
   "metadata": {},
   "outputs": [
    {
     "name": "stdout",
     "output_type": "stream",
     "text": [
      "1 0 [[1, 2, 3, 5], [5, 6, 7, 8], [4, 3, 2, 1]] [2, 3, 5]\n",
      "1 1 [[1, 2, 3, 5], [10, 6, 7, 8], [4, 3, 2, 1]] [1, 3, 5]\n",
      "1 2 [[1, 2, 3, 5], [10, 11, 7, 8], [4, 3, 2, 1]] [1, 2, 5]\n",
      "1 3 [[1, 2, 3, 5], [10, 11, 12, 8], [4, 3, 2, 1]] [1, 2, 3]\n",
      "2 0 [[1, 2, 3, 5], [10, 11, 12, 11], [4, 3, 2, 1]] [11, 12, 11]\n",
      "2 1 [[1, 2, 3, 5], [10, 11, 12, 11], [16, 3, 2, 1]] [10, 12, 11]\n",
      "2 2 [[1, 2, 3, 5], [10, 11, 12, 11], [16, 15, 2, 1]] [10, 11, 11]\n",
      "2 3 [[1, 2, 3, 5], [10, 11, 12, 11], [16, 15, 13, 1]] [10, 11, 12]\n",
      "16\n"
     ]
    }
   ],
   "source": [
    "def solution(land):\n",
    "    for i in range(1,len(land)):\n",
    "        for j in range(len(land[0])):\n",
    "            print(i,j,land,land[i-1][:j] + land[i-1][j+1:])\n",
    "            land[i][j] += max(land[i-1][:j] + land[i-1][j+1:])\n",
    "\n",
    "    return max(land[len(land)-1])\n",
    "\n",
    "print(solution([[1,2,3,5],[5,6,7,8],[4,3,2,1]]))"
   ]
  }
 ],
 "metadata": {
  "kernelspec": {
   "display_name": "Python 3",
   "language": "python",
   "name": "python3"
  },
  "language_info": {
   "codemirror_mode": {
    "name": "ipython",
    "version": 3
   },
   "file_extension": ".py",
   "mimetype": "text/x-python",
   "name": "python",
   "nbconvert_exporter": "python",
   "pygments_lexer": "ipython3",
   "version": "3.8.8"
  }
 },
 "nbformat": 4,
 "nbformat_minor": 5
}
