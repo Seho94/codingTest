{
 "cells": [
  {
   "cell_type": "markdown",
   "id": "5e8b6d60",
   "metadata": {},
   "source": [
    "## 문제 설명\n",
    "Finn은 요즘 수학공부에 빠져 있습니다. 수학 공부를 하던 Finn은 자연수 n을 연속한 자연수들로 표현 하는 방법이 여러개라는 사실을 알게 되었습니다. 예를들어 15는 다음과 같이 4가지로 표현 할 수 있습니다.\n",
    "\n",
    "1 + 2 + 3 + 4 + 5 = 15  \n",
    "4 + 5 + 6 = 15  \n",
    "7 + 8 = 15  \n",
    "15 = 15  \n",
    "자연수 n이 매개변수로 주어질 때, 연속된 자연수들로 n을 표현하는 방법의 수를 return하는 solution를 완성해주세요.  \n",
    "\n",
    "## 제한사항\n",
    "n은 10,000 이하의 자연수 입니다."
   ]
  },
  {
   "cell_type": "code",
   "execution_count": 7,
   "id": "28d42211",
   "metadata": {},
   "outputs": [
    {
     "name": "stdout",
     "output_type": "stream",
     "text": [
      "4\n"
     ]
    }
   ],
   "source": [
    "def solution(n):\n",
    "    count = 0\n",
    "    for i in range(1,n+1):\n",
    "        s = 0\n",
    "        for j in range(i, n+1):\n",
    "            s += j\n",
    "            if s == n:\n",
    "                count += 1\n",
    "                break\n",
    "            elif s > n:\n",
    "                break\n",
    "    return count\n",
    "\n",
    "print(solution(15))"
   ]
  },
  {
   "cell_type": "markdown",
   "id": "e05a57c4",
   "metadata": {},
   "source": [
    "## 다른 풀이"
   ]
  },
  {
   "cell_type": "code",
   "execution_count": 8,
   "id": "5e451a0a",
   "metadata": {},
   "outputs": [
    {
     "name": "stdout",
     "output_type": "stream",
     "text": [
      "4\n"
     ]
    }
   ],
   "source": [
    "def expressions(num):\n",
    "    return len([i  for i in range(1,num+1,2) if num % i == 0])\n",
    "\n",
    "print(expressions(15))"
   ]
  }
 ],
 "metadata": {
  "kernelspec": {
   "display_name": "Python 3",
   "language": "python",
   "name": "python3"
  },
  "language_info": {
   "codemirror_mode": {
    "name": "ipython",
    "version": 3
   },
   "file_extension": ".py",
   "mimetype": "text/x-python",
   "name": "python",
   "nbconvert_exporter": "python",
   "pygments_lexer": "ipython3",
   "version": "3.8.8"
  }
 },
 "nbformat": 4,
 "nbformat_minor": 5
}
