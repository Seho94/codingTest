{
 "cells": [
  {
   "cell_type": "markdown",
   "id": "f95069ff",
   "metadata": {},
   "source": [
    "## 문제 설명\n",
    "피보나치 수는 F(0) = 0, F(1) = 1일 때, 1 이상의 n에 대하여 F(n) = F(n-1) + F(n-2) 가 적용되는 수 입니다.  \n",
    "  \n",
    "예를들어  \n",
    "\n",
    "F(2) = F(0) + F(1) = 0 + 1 = 1  \n",
    "F(3) = F(1) + F(2) = 1 + 1 = 2  \n",
    "F(4) = F(2) + F(3) = 1 + 2 = 3  \n",
    "F(5) = F(3) + F(4) = 2 + 3 = 5  \n",
    "와 같이 이어집니다.  \n",
    "  \n",
    "2 이상의 n이 입력되었을 때, n번째 피보나치 수를 1234567으로 나눈 나머지를 리턴하는 함수, solution을 완성해 주세요.  \n",
    "\n",
    "## 제한 사항\n",
    "n은 2 이상 100,000 이하인 자연수입니다."
   ]
  },
  {
   "cell_type": "code",
   "execution_count": 24,
   "id": "b91f53ee",
   "metadata": {},
   "outputs": [
    {
     "name": "stdout",
     "output_type": "stream",
     "text": [
      "2\n"
     ]
    }
   ],
   "source": [
    "def solution(n):\n",
    "    li = [0,1]\n",
    "    for i in range(2,n+1):\n",
    "        li.append(li[i-1]+li[i-2])\n",
    "\n",
    "    li = list(map(lambda x: x%1234567, li))\n",
    "    return li[n]\n",
    "\n",
    "print(solution(3))"
   ]
  },
  {
   "cell_type": "markdown",
   "id": "ce122ad4",
   "metadata": {},
   "source": [
    "## 모범 정답"
   ]
  },
  {
   "cell_type": "code",
   "execution_count": 25,
   "id": "6bd33b8d",
   "metadata": {},
   "outputs": [
    {
     "name": "stdout",
     "output_type": "stream",
     "text": [
      "2\n"
     ]
    }
   ],
   "source": [
    "def fibonacci(num):\n",
    "    a,b = 0,1\n",
    "    for i in range(num):\n",
    "        a,b = b,a+b\n",
    "    return a\n",
    "\n",
    "# 아래는 테스트로 출력해 보기 위한 코드입니다.\n",
    "print(fibonacci(3))"
   ]
  }
 ],
 "metadata": {
  "kernelspec": {
   "display_name": "Python 3",
   "language": "python",
   "name": "python3"
  },
  "language_info": {
   "codemirror_mode": {
    "name": "ipython",
    "version": 3
   },
   "file_extension": ".py",
   "mimetype": "text/x-python",
   "name": "python",
   "nbconvert_exporter": "python",
   "pygments_lexer": "ipython3",
   "version": "3.8.8"
  }
 },
 "nbformat": 4,
 "nbformat_minor": 5
}
