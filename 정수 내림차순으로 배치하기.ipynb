{
 "cells": [
  {
   "cell_type": "markdown",
   "id": "fc53fbff",
   "metadata": {},
   "source": [
    "# 정수 내림차순으로 배치하기\n",
    "## 문제 설명\n",
    "함수 solution은 정수 n을 매개변수로 입력받습니다. n의 각 자릿수를 큰것부터 작은 순으로 정렬한 새로운 정수를 리턴해주세요. 예를들어 n이 118372면 873211을 리턴하면 됩니다.\n",
    "\n",
    "## 제한 조건\n",
    "n은 1이상 8000000000 이하인 자연수입니다.\n",
    "\n",
    "## Input\n",
    "118372\n",
    "## Output\n",
    "873211"
   ]
  },
  {
   "cell_type": "code",
   "execution_count": 16,
   "id": "e757041c",
   "metadata": {},
   "outputs": [
    {
     "data": {
      "text/plain": [
       "873211"
      ]
     },
     "execution_count": 16,
     "metadata": {},
     "output_type": "execute_result"
    }
   ],
   "source": [
    "def solution(n):\n",
    "    answer = ''\n",
    "    for i in list(map(int,sorted(str(n), reverse=True))):\n",
    "        answer = answer + str(i)\n",
    "\n",
    "    answer = int(answer)\n",
    "    return answer\n",
    "\n",
    "solution(118372)"
   ]
  },
  {
   "cell_type": "markdown",
   "id": "22c04e32",
   "metadata": {},
   "source": [
    "### 모범답안"
   ]
  },
  {
   "cell_type": "code",
   "execution_count": 17,
   "id": "ca66bcb8",
   "metadata": {},
   "outputs": [
    {
     "data": {
      "text/plain": [
       "873211"
      ]
     },
     "execution_count": 17,
     "metadata": {},
     "output_type": "execute_result"
    }
   ],
   "source": [
    "def solution(n):\n",
    "    ls = list(str(n))\n",
    "    ls.sort(reverse = True)\n",
    "    return int(\"\".join(ls))\n",
    "\n",
    "solution(118372)"
   ]
  }
 ],
 "metadata": {
  "kernelspec": {
   "display_name": "Python 3",
   "language": "python",
   "name": "python3"
  },
  "language_info": {
   "codemirror_mode": {
    "name": "ipython",
    "version": 3
   },
   "file_extension": ".py",
   "mimetype": "text/x-python",
   "name": "python",
   "nbconvert_exporter": "python",
   "pygments_lexer": "ipython3",
   "version": "3.8.8"
  }
 },
 "nbformat": 4,
 "nbformat_minor": 5
}
